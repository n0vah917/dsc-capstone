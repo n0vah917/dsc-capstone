{
 "cells": [
  {
   "cell_type": "markdown",
   "metadata": {},
   "source": [
    "## Final Project Submission\n",
    "\n",
    "\n",
    "* Student name:  Noah-John Hizon\n",
    "* Student pace: part time \n",
    "* Scheduled project review date/time: 11/1 4:30PM\n",
    "* Instructor name: Abhineet Kulkarni\n"
   ]
  },
  {
   "cell_type": "markdown",
   "metadata": {},
   "source": [
    "# Determining Attributes of Good Restaurants Using Review Text"
   ]
  },
  {
   "cell_type": "markdown",
   "metadata": {},
   "source": [
    "![view](https://github.com/n0vah917/dsc-capstone/blob/main/images/7.jpg)"
   ]
  },
  {
   "cell_type": "markdown",
   "metadata": {},
   "source": [
    "## Project Overview/Summary\n",
    "\n",
    "The focus of this project is to identify key attributes that make a restaurant \"good\" or \"bad\". This would be of value to restaurants who are looking to improve their business, but have no idea where to start. By using the \"voice of the people\" through the reviews they leave on restaurant businesses, direct feedback and routes to improve service can be identified. \n",
    "\n",
    "Restaurant review data sourced from a web scraped Yelp dataset was used in order to develop a NLP (Natural Language Processing) model that differentiates good reviews from bad reviews. Stopwords were removed, and all document tokens in the model were lemmatized in order to consolidate via root words. The TF-IDF (Term Frequency - Inverse Document Frequency) Vectorizer is used in conjunction with the Multinomial Naive Bayes classifier, in order to create a model that successfully classifies a review as \"good\" or \"bad\".\n",
    "\n",
    "Additionally, using the review dataset, a rudimentary proof-of-concept recommendation system was created in order to provide restaurant suggestions for a given category, using using user_IDs, business_IDs, and review ratings for reference. This system is meant to serve as a follow-up to the NLP model, to provide a user facing solution that assists choosing restaurants. \n",
    "\n",
    "Differentiating review types has massive implications on the ability to identify the competence of a restaurant. The resulting model was able to successfully assign a review type with an accuracy of 84% on training data and 83% on testing data.  "
   ]
  },
  {
   "cell_type": "markdown",
   "metadata": {},
   "source": [
    "## Business Problem "
   ]
  },
  {
   "cell_type": "markdown",
   "metadata": {},
   "source": [
    "In an industry as sensitive as food service, reviews, whether on a customer level or a professional level can make or break a restaurant in a customer's mind. Review services like Yelp and Google Reviews are instrumental for tourists and locals alike when informing decisions on where to eat for a night out. Any combination of factors can lead people to leave a review on a business's page, whether they be positive/supportive, detrimental/harsh, or somewhere in between. Owners with failing restaurant businesses may be at a loss when trying to find avenues of improvement. Significant investment in new hardware, staffing, or ingredients may be costly and prove to not be worth it. \n",
    "\n",
    "Without a culinary degree being a given in the restaurant industry, there is an interminable range of quality and service standards the average diner may run into; many times, the choice is a shot in the dark. From personal experience, I have gone to restaurants whose food can be seen as barely edible, but have excellent review aggregates. On the contrary, when going to restaurants that have subpar quality decor/cleanliness, the food I end up eating ends up being phenomenal. Unassuming exteriors like Sal's Pizza in Brooklyn, Peck Peck Chicken in Teaneck NJ, and Bagel Twist in Teaneck, NJ have m. Other times, in the face of mediocre food, some restaurants have outstanding service from their staff, which ends up bumping up the overall perception of satisfaction in my mind.\n",
    "\n",
    "TV shows like Gordon Ramsay's Kitchen Nightmares offer the average viewer a look behind the curtain, into where underperforming restaurants are going wrong. In a similar vein, looking at review data gives context into the quality of restaurants in a given neighborhood, and provide insight into whether a restaurant is worth supporting or not. However, a cumulative 5-star review via Yelp can only hold so much information, and its reliability is dependent on a plethora of other factors that vary from restaurant to restaurant. \n",
    " \n",
    "Thankfully, Yelp has an abundance of additional information, some being information in the form of review text. Yelp's review system enables users to write essay-length summaries of their experiences with restaurants. Yelp restaurant data spanning 2010 to 2014 will be aggregated and modeled via Natural Language Processing (NLP) in order to classify an individual review as bad or good. Looking at the importance of features within the predicting model will inform key features within restaurants that should be scrutinized when looking to improve overall satisfaction. To supplement this analysis, a recommendation system will be created using user reviews, in order to provide a user-informed method of restaurant selection."
   ]
  },
  {
   "cell_type": "markdown",
   "metadata": {},
   "source": [
    "## Data Understanding\n",
    "\n",
    "Aggregate data from the review site, Yelp, was found pre-scraped from a Kaggle dataset. All packages for interpretation/modeling are imported in this step. Each row in the initial dataset represents an individual review, with its user, business, review text, review rating, and supplementary elements that help further identify the business. Upon observation, the review text is represented in the 'text' column, as a long string separated by spaces and punctuation."
   ]
  },
  {
   "cell_type": "code",
   "execution_count": 93,
   "metadata": {},
   "outputs": [
    {
     "name": "stderr",
     "output_type": "stream",
     "text": [
      "C:\\Users\\noahi\\anaconda3\\envs\\learn-env\\lib\\site-packages\\IPython\\core\\interactiveshell.py:3145: DtypeWarning: Columns (0,1,2,4,7,10,11) have mixed types.Specify dtype option on import or set low_memory=False.\n",
      "  has_raised = await self.run_ast_nodes(code_ast.body, cell_name,\n"
     ]
    },
    {
     "data": {
      "text/html": [
       "<div>\n",
       "<style scoped>\n",
       "    .dataframe tbody tr th:only-of-type {\n",
       "        vertical-align: middle;\n",
       "    }\n",
       "\n",
       "    .dataframe tbody tr th {\n",
       "        vertical-align: top;\n",
       "    }\n",
       "\n",
       "    .dataframe thead th {\n",
       "        text-align: right;\n",
       "    }\n",
       "</style>\n",
       "<table border=\"1\" class=\"dataframe\">\n",
       "  <thead>\n",
       "    <tr style=\"text-align: right;\">\n",
       "      <th></th>\n",
       "      <th>user_id</th>\n",
       "      <th>review_id</th>\n",
       "      <th>text</th>\n",
       "      <th>votes.cool</th>\n",
       "      <th>business_id</th>\n",
       "      <th>votes.funny</th>\n",
       "      <th>stars</th>\n",
       "      <th>date</th>\n",
       "      <th>YEAR</th>\n",
       "      <th>votes.useful</th>\n",
       "      <th>...</th>\n",
       "      <th>name</th>\n",
       "      <th>attributes.Price Range</th>\n",
       "      <th>review_count</th>\n",
       "      <th>stars1</th>\n",
       "      <th>Votestot</th>\n",
       "      <th>Unnamed: 16</th>\n",
       "      <th>Unnamed: 17</th>\n",
       "      <th>Unnamed: 18</th>\n",
       "      <th>Unnamed: 19</th>\n",
       "      <th>Unnamed: 20</th>\n",
       "    </tr>\n",
       "  </thead>\n",
       "  <tbody>\n",
       "    <tr>\n",
       "      <th>0</th>\n",
       "      <td>__FtIsjOxPkqiYfQedYgTg</td>\n",
       "      <td>4Rs8MQBEzfXLrM8Srf5ZFw</td>\n",
       "      <td>Good back home type of food and the best servi...</td>\n",
       "      <td>0.0</td>\n",
       "      <td>VkPzsY09S4zO0XqhA1mc6Q</td>\n",
       "      <td>0.0</td>\n",
       "      <td>4.0</td>\n",
       "      <td>2014-07-05</td>\n",
       "      <td>2014.0</td>\n",
       "      <td>0.0</td>\n",
       "      <td>...</td>\n",
       "      <td>Island Flavor</td>\n",
       "      <td>2.0</td>\n",
       "      <td>488.0</td>\n",
       "      <td>4.5</td>\n",
       "      <td>4.0</td>\n",
       "      <td>NaN</td>\n",
       "      <td>NaN</td>\n",
       "      <td>NaN</td>\n",
       "      <td>NaN</td>\n",
       "      <td>NaN</td>\n",
       "    </tr>\n",
       "    <tr>\n",
       "      <th>1</th>\n",
       "      <td>__FtIsjOxPkqiYfQedYgTg</td>\n",
       "      <td>uxqjGjYC8OId-JS-GVLOrQ</td>\n",
       "      <td>Too many fun memories here mostly drinking!! B...</td>\n",
       "      <td>0.0</td>\n",
       "      <td>U87W6T9vjwWnp28Zjnn4pQ</td>\n",
       "      <td>0.0</td>\n",
       "      <td>4.0</td>\n",
       "      <td>2014-07-01</td>\n",
       "      <td>2014.0</td>\n",
       "      <td>0.0</td>\n",
       "      <td>...</td>\n",
       "      <td>Triple 7 Restaurant &amp; Microbrewery</td>\n",
       "      <td>2.0</td>\n",
       "      <td>281.0</td>\n",
       "      <td>3.5</td>\n",
       "      <td>4.0</td>\n",
       "      <td>NaN</td>\n",
       "      <td>NaN</td>\n",
       "      <td>NaN</td>\n",
       "      <td>NaN</td>\n",
       "      <td>NaN</td>\n",
       "    </tr>\n",
       "    <tr>\n",
       "      <th>2</th>\n",
       "      <td>__FXEOrWIjXMOElz2pGlBQ</td>\n",
       "      <td>2KAfm9Lqh-1-qUe8V1cc6w</td>\n",
       "      <td>I've been back twice now. The first time I ord...</td>\n",
       "      <td>0.0</td>\n",
       "      <td>aS-mHlVamCV2rTiw8RrNdw</td>\n",
       "      <td>0.0</td>\n",
       "      <td>5.0</td>\n",
       "      <td>2014-05-08</td>\n",
       "      <td>2014.0</td>\n",
       "      <td>0.0</td>\n",
       "      <td>...</td>\n",
       "      <td>Rito's</td>\n",
       "      <td>2.0</td>\n",
       "      <td>55.0</td>\n",
       "      <td>4.0</td>\n",
       "      <td>5.0</td>\n",
       "      <td>NaN</td>\n",
       "      <td>NaN</td>\n",
       "      <td>NaN</td>\n",
       "      <td>NaN</td>\n",
       "      <td>NaN</td>\n",
       "    </tr>\n",
       "    <tr>\n",
       "      <th>3</th>\n",
       "      <td>__JgFZ3h2LyTMTtZdf0HYw</td>\n",
       "      <td>SkR3zBOXJggDAIq5qzEUHg</td>\n",
       "      <td>Great place for a late night meal. Cool atomos...</td>\n",
       "      <td>0.0</td>\n",
       "      <td>4bEjOyTaDG24SY5TxsaUNQ</td>\n",
       "      <td>0.0</td>\n",
       "      <td>4.0</td>\n",
       "      <td>2014-03-20</td>\n",
       "      <td>2014.0</td>\n",
       "      <td>0.0</td>\n",
       "      <td>...</td>\n",
       "      <td>Mon Ami Gabi</td>\n",
       "      <td>2.0</td>\n",
       "      <td>4084.0</td>\n",
       "      <td>4.0</td>\n",
       "      <td>4.0</td>\n",
       "      <td>NaN</td>\n",
       "      <td>NaN</td>\n",
       "      <td>NaN</td>\n",
       "      <td>NaN</td>\n",
       "      <td>NaN</td>\n",
       "    </tr>\n",
       "    <tr>\n",
       "      <th>4</th>\n",
       "      <td>__JmvLJkdl_n48eZCFa4Sg</td>\n",
       "      <td>-XB4eE01MT9qwqj5PSmbvw</td>\n",
       "      <td>I used to love this place, but over time the s...</td>\n",
       "      <td>0.0</td>\n",
       "      <td>eLPld7Q17XxlclFGzZQX5g</td>\n",
       "      <td>0.0</td>\n",
       "      <td>1.0</td>\n",
       "      <td>2014-07-03</td>\n",
       "      <td>2014.0</td>\n",
       "      <td>0.0</td>\n",
       "      <td>...</td>\n",
       "      <td>Yama Sushi</td>\n",
       "      <td>2.0</td>\n",
       "      <td>874.0</td>\n",
       "      <td>4.0</td>\n",
       "      <td>1.0</td>\n",
       "      <td>NaN</td>\n",
       "      <td>NaN</td>\n",
       "      <td>NaN</td>\n",
       "      <td>NaN</td>\n",
       "      <td>NaN</td>\n",
       "    </tr>\n",
       "  </tbody>\n",
       "</table>\n",
       "<p>5 rows × 21 columns</p>\n",
       "</div>"
      ],
      "text/plain": [
       "                  user_id               review_id  \\\n",
       "0  __FtIsjOxPkqiYfQedYgTg  4Rs8MQBEzfXLrM8Srf5ZFw   \n",
       "1  __FtIsjOxPkqiYfQedYgTg  uxqjGjYC8OId-JS-GVLOrQ   \n",
       "2  __FXEOrWIjXMOElz2pGlBQ  2KAfm9Lqh-1-qUe8V1cc6w   \n",
       "3  __JgFZ3h2LyTMTtZdf0HYw  SkR3zBOXJggDAIq5qzEUHg   \n",
       "4  __JmvLJkdl_n48eZCFa4Sg  -XB4eE01MT9qwqj5PSmbvw   \n",
       "\n",
       "                                                text  votes.cool  \\\n",
       "0  Good back home type of food and the best servi...         0.0   \n",
       "1  Too many fun memories here mostly drinking!! B...         0.0   \n",
       "2  I've been back twice now. The first time I ord...         0.0   \n",
       "3  Great place for a late night meal. Cool atomos...         0.0   \n",
       "4  I used to love this place, but over time the s...         0.0   \n",
       "\n",
       "              business_id  votes.funny  stars        date    YEAR  \\\n",
       "0  VkPzsY09S4zO0XqhA1mc6Q          0.0    4.0  2014-07-05  2014.0   \n",
       "1  U87W6T9vjwWnp28Zjnn4pQ          0.0    4.0  2014-07-01  2014.0   \n",
       "2  aS-mHlVamCV2rTiw8RrNdw          0.0    5.0  2014-05-08  2014.0   \n",
       "3  4bEjOyTaDG24SY5TxsaUNQ          0.0    4.0  2014-03-20  2014.0   \n",
       "4  eLPld7Q17XxlclFGzZQX5g          0.0    1.0  2014-07-03  2014.0   \n",
       "\n",
       "   votes.useful  ...                                name  \\\n",
       "0           0.0  ...                       Island Flavor   \n",
       "1           0.0  ...  Triple 7 Restaurant & Microbrewery   \n",
       "2           0.0  ...                              Rito's   \n",
       "3           0.0  ...                        Mon Ami Gabi   \n",
       "4           0.0  ...                          Yama Sushi   \n",
       "\n",
       "  attributes.Price Range  review_count  stars1  Votestot  Unnamed: 16  \\\n",
       "0                    2.0         488.0     4.5       4.0          NaN   \n",
       "1                    2.0         281.0     3.5       4.0          NaN   \n",
       "2                    2.0          55.0     4.0       5.0          NaN   \n",
       "3                    2.0        4084.0     4.0       4.0          NaN   \n",
       "4                    2.0         874.0     4.0       1.0          NaN   \n",
       "\n",
       "   Unnamed: 17  Unnamed: 18  Unnamed: 19  Unnamed: 20  \n",
       "0          NaN          NaN          NaN          NaN  \n",
       "1          NaN          NaN          NaN          NaN  \n",
       "2          NaN          NaN          NaN          NaN  \n",
       "3          NaN          NaN          NaN          NaN  \n",
       "4          NaN          NaN          NaN          NaN  \n",
       "\n",
       "[5 rows x 21 columns]"
      ]
     },
     "execution_count": 93,
     "metadata": {},
     "output_type": "execute_result"
    }
   ],
   "source": [
    "import pandas as pd\n",
    "import numpy as np\n",
    "import matplotlib.pyplot as plt \n",
    "from sklearn.linear_model import LinearRegression\n",
    "from sklearn.model_selection import GridSearchCV, train_test_split, cross_val_score, KFold\n",
    "from sklearn.naive_bayes import MultinomialNB\n",
    "import statsmodels.formula.api as smf\n",
    "import scipy.stats as stats\n",
    "import statsmodels.stats.api as sms\n",
    "from itertools import combinations\n",
    "from sklearn.tree import DecisionTreeClassifier \n",
    "from sklearn.metrics import accuracy_score, confusion_matrix, plot_confusion_matrix, classification_report, ConfusionMatrixDisplay,precision_score\n",
    "from sklearn.ensemble import RandomForestClassifier\n",
    "\n",
    "from nltk.tokenize import regexp_tokenize, word_tokenize, RegexpTokenizer\n",
    "from nltk.corpus import stopwords, wordnet\n",
    "from nltk import word_tokenize, FreqDist, pos_tag\n",
    "from nltk.stem.wordnet import WordNetLemmatizer\n",
    "from nltk.tokenize import RegexpTokenizer\n",
    "from sklearn.feature_extraction.text import TfidfVectorizer, CountVectorizer\n",
    "\n",
    "reviewdata = pd.read_csv('yelpcomgen.csv',header=0,encoding='latin-1')\n",
    "reviewdata.head(5)"
   ]
  },
  {
   "cell_type": "markdown",
   "metadata": {},
   "source": [
    "The user_id and business_id seem to be randomly generated strings, but are unique to each individual user/restaurant respectively. In addition to these, there are supplementary attributes that may be relevant for future analyses, such as votes for any particular review, and date, but are not relevant for the NLP model and recommendation system.\n",
    "\n",
    "The field most critical to differentiating good vs. bad reviews is the 'stars1' field, which represents a review score from a scale of 1 to 5 for each review, in increments of 1/2 star. \n",
    "\n",
    "There are a massive amount of reviews in the dataset to parse through, with around 50k individual users that have written reviews, and ~3.5k unique businesses. That being said, there are more than enough records for the NLP model. "
   ]
  },
  {
   "cell_type": "code",
   "execution_count": 94,
   "metadata": {},
   "outputs": [
    {
     "name": "stdout",
     "output_type": "stream",
     "text": [
      "There are 699459 total reviews in the dataset\n",
      "__________________\n",
      "There are 49797 unique users in the dataset\n",
      "__________________\n",
      "There are 3481 unique businesses in the dataset\n"
     ]
    }
   ],
   "source": [
    "print(f\"There are {len(reviewdata)} total reviews in the dataset\")\n",
    "print(\"__________________\")\n",
    "print(f\"There are {reviewdata.user_id.nunique()} unique users in the dataset\")\n",
    "print(\"__________________\")\n",
    "print(f\"There are {reviewdata.business_id.nunique()} unique businesses in the dataset\")"
   ]
  },
  {
   "cell_type": "markdown",
   "metadata": {},
   "source": [
    "Below, a histogram displaying a distribution of the amount of reviews each individual business has; for the most part, it seems as if over half of the  businesses within the dataset have a review count of 50, the most common counts between 15-20. The individual review count for each business actually doesn't matter as much, since the prediction is not done for each individual business, but on the set as a whole."
   ]
  },
  {
   "cell_type": "code",
   "execution_count": 95,
   "metadata": {},
   "outputs": [
    {
     "data": {
      "text/plain": [
       "<AxesSubplot:title={'center':'Review Count Distribution by Restaurant ID'}, ylabel='Frequency'>"
      ]
     },
     "execution_count": 95,
     "metadata": {},
     "output_type": "execute_result"
    },
    {
     "data": {
      "image/png": "[encoded data removed]",
      "text/plain": [
       "<Figure size 432x288 with 1 Axes>"
      ]
     },
     "metadata": {
      "needs_background": "light"
     },
     "output_type": "display_data"
    }
   ],
   "source": [
    "revcounts=pd.DataFrame(reviewdata.business_id.value_counts())\n",
    "revcounts.columns=['counts']\n",
    "revcounts=revcounts[revcounts.counts<=100]\n",
    "revcounts.plot(kind='hist',title='Review Count Distribution by Restaurant ID',bins=50)"
   ]
  },
  {
   "cell_type": "markdown",
   "metadata": {},
   "source": [
    "Price range is an interesting attribute to look at, as the amount of $'s  visible on a given Yelp business designates what price range it falls in, 1 sign being the cheapest, and 4 signs being the most expensive, usually characterizing \"fine dining\".  The average star rating by each designated price range was calculated. Surprisingly, the 1 sign had the highest average rating, while 2 signs had the lowest. This may be due to the abundance of restaurants categorized under 2 signs, the breadth of reviews bringing the overall score down. 4 sign restaurants have the least amount of reviews, and this is to be expected. Fine dining restaurants are not easily accessible to the average diner."
   ]
  },
  {
   "cell_type": "code",
   "execution_count": 96,
   "metadata": {},
   "outputs": [
    {
     "name": "stdout",
     "output_type": "stream",
     "text": [
      "2.0    65904\n",
      "1.0    21411\n",
      "3.0     9026\n",
      "4.0     3997\n",
      "Name: attributes.Price Range, dtype: int64\n"
     ]
    },
    {
     "data": {
      "image/png": "[encoded data removed]",
      "text/plain": [
       "<Figure size 432x288 with 1 Axes>"
      ]
     },
     "metadata": {
      "needs_background": "light"
     },
     "output_type": "display_data"
    }
   ],
   "source": [
    "print(reviewdata['attributes.Price Range'].value_counts())\n",
    "\n",
    "plot=reviewdata.groupby(['attributes.Price Range'])['stars1'].agg(['mean']).plot(kind=\"bar\",title='Average star rating by Price Range')"
   ]
  },
  {
   "cell_type": "markdown",
   "metadata": {},
   "source": [
    "Below, a bar chart is created depicting the star rating distribution for all reviews of the data set. 4 stars seem to hold the majority of reviews, with the 1.5 and 2 star reviews having the least amount of ratings. The amount is unsurprising, as if any restaurant had 1.5 star reviews on average, they likely would be out of business."
   ]
  },
  {
   "cell_type": "code",
   "execution_count": 97,
   "metadata": {},
   "outputs": [
    {
     "data": {
      "text/plain": [
       "[Text(0, 0, '1.5'),\n",
       " Text(1, 0, '2.0'),\n",
       " Text(2, 0, '2.5'),\n",
       " Text(3, 0, '3.0'),\n",
       " Text(4, 0, '3.5'),\n",
       " Text(5, 0, '4.0'),\n",
       " Text(6, 0, '4.5'),\n",
       " Text(7, 0, '5.0')]"
      ]
     },
     "execution_count": 97,
     "metadata": {},
     "output_type": "execute_result"
    },
    {
     "data": {
      "image/png": "[encoded data removed]",
      "text/plain": [
       "<Figure size 432x288 with 1 Axes>"
      ]
     },
     "metadata": {
      "needs_background": "light"
     },
     "output_type": "display_data"
    }
   ],
   "source": [
    "star1counts=pd.DataFrame(reviewdata.stars1.value_counts())\n",
    "star1counts.reset_index(inplace=True)\n",
    "star1counts=star1counts.sort_values(by=['index'],ascending=True)\n",
    "star1counts.head(10)\n",
    "star1counts['index'].head()\n",
    "star1counts.rename(columns={'index':'rating'},inplace=True)\n",
    "star1counts.plot(kind='bar',title='Star Rating Distribution',legend=None).set_xticklabels(star1counts['rating'])"
   ]
  },
  {
   "cell_type": "markdown",
   "metadata": {},
   "source": [
    "An interesting field to use for the recommendation system is categories, stored as seen below as a text string separated by semicolons. Parsing these categories out using the split operator is performed, converting the string into a list."
   ]
  },
  {
   "cell_type": "code",
   "execution_count": 98,
   "metadata": {},
   "outputs": [
    {
     "data": {
      "text/plain": [
       "0                                 Hawaiian;Restaurants\n",
       "1    Food;American (Traditional);Breweries;Restaurants\n",
       "2                                  Mexican;Restaurants\n",
       "3    Breakfast & Brunch;Steakhouses;French;Restaurants\n",
       "4                               Sushi Bars;Restaurants\n",
       "Name: categories, dtype: object"
      ]
     },
     "execution_count": 98,
     "metadata": {},
     "output_type": "execute_result"
    }
   ],
   "source": [
    "reviewdata.categories.head()"
   ]
  },
  {
   "cell_type": "code",
   "execution_count": 99,
   "metadata": {},
   "outputs": [],
   "source": [
    "reviewdata.categories=reviewdata.categories.str.split(';')"
   ]
  },
  {
   "cell_type": "markdown",
   "metadata": {},
   "source": [
    "Below, a function is defined used to display the distribution of categories across the entire set. In total, there are  1,010 individual categories, the length of which is unsurprising as categorization is user inputted. The top five categories by count are American, Nightlife, Bars, Breakfast and Brunch. This may be due to most restaurant reviews being placed within America, as the company based in America. When it comes to going out/nightlife, people tend to be more particular about preference and are more likely to leave reviews in the event of a bad experience. The top 30 categories contain the main breadth of cuisine one would typically find in a large American city."
   ]
  },
  {
   "cell_type": "code",
   "execution_count": 100,
   "metadata": {},
   "outputs": [
    {
     "data": {
      "text/plain": [
       "[Text(0, 0, 'American (New)'),\n",
       " Text(1, 0, 'Nightlife'),\n",
       " Text(2, 0, 'Bars'),\n",
       " Text(3, 0, 'American (Traditional)'),\n",
       " Text(4, 0, 'Breakfast & Brunch'),\n",
       " Text(5, 0, 'Mexican'),\n",
       " Text(6, 0, 'Italian'),\n",
       " Text(7, 0, 'Food'),\n",
       " Text(8, 0, 'Pizza'),\n",
       " Text(9, 0, 'Steakhouses'),\n",
       " Text(10, 0, 'Japanese'),\n",
       " Text(11, 0, 'Sushi Bars'),\n",
       " Text(12, 0, 'Burgers'),\n",
       " Text(13, 0, 'Sandwiches'),\n",
       " Text(14, 0, 'Seafood'),\n",
       " Text(15, 0, 'Chinese'),\n",
       " Text(16, 0, 'Buffets'),\n",
       " Text(17, 0, 'Asian Fusion'),\n",
       " Text(18, 0, 'Thai'),\n",
       " Text(19, 0, 'Barbeque'),\n",
       " Text(20, 0, 'Cafes'),\n",
       " Text(21, 0, 'Mediterranean'),\n",
       " Text(22, 0, 'Pubs'),\n",
       " Text(23, 0, 'Vietnamese'),\n",
       " Text(24, 0, 'French'),\n",
       " Text(25, 0, 'Vegetarian'),\n",
       " Text(26, 0, 'Coffee & Tea'),\n",
       " Text(27, 0, 'Sports Bars'),\n",
       " Text(28, 0, 'Wine Bars')]"
      ]
     },
     "execution_count": 100,
     "metadata": {},
     "output_type": "execute_result"
    },
    {
     "data": {
      "image/png": "[encoded data removed]",
      "text/plain": [
       "<Figure size 432x288 with 1 Axes>"
      ]
     },
     "metadata": {
      "needs_background": "light"
     },
     "output_type": "display_data"
    }
   ],
   "source": [
    "catlist=[]\n",
    "for category in reviewdata.categories:\n",
    "    catlist.append(category)\n",
    "    \n",
    "catlist\n",
    "\n",
    "def flat(lis):\n",
    "    flatList = []\n",
    "    for x in lis:\n",
    "        if type(x) is list:\n",
    "            for y in x:\n",
    "                flatList.append(y)\n",
    "        else:\n",
    "            flatList.append(x)\n",
    "    return flatList\n",
    "\n",
    "finalcatlist=flat(catlist)\n",
    "\n",
    "catdf=pd.DataFrame(finalcatlist).value_counts().rename_axis('category').reset_index(name='counts')\n",
    "cattrim=catdf.head(30)\n",
    "cattrim=cattrim[cattrim.category!='Restaurants']\n",
    "\n",
    "cattrim.plot(kind='bar',title='Restaurant Category Distribution').set_xticklabels(cattrim['category'])"
   ]
  },
  {
   "cell_type": "markdown",
   "metadata": {},
   "source": [
    "Now that main metrics within the dataset are identified, the dataset can now be prepped for modeling."
   ]
  },
  {
   "cell_type": "markdown",
   "metadata": {},
   "source": [
    "## Data Preparation"
   ]
  },
  {
   "cell_type": "markdown",
   "metadata": {},
   "source": [
    "The first step in prepping the dataset to be summarized is to break each review (currently stored as a text string in the overall table) into individual tokens, separating by commas, then re-populating as a list in each row in the dataframe.\n",
    "Below, the regular expression pattern is used within the tokenizer to split words, looking for non-letter characters as boundaries while preserving apostrophes within words where relevant."
   ]
  },
  {
   "cell_type": "code",
   "execution_count": 101,
   "metadata": {},
   "outputs": [],
   "source": [
    "reviewdata=reviewdata.astype({'text':str},errors='raise')\n",
    "pattern=r\"([a-zA-Z]+(?:'[a-z]+)?)\"\n",
    "tokenizer=RegexpTokenizer(pattern)\n",
    "reviewdata.text=reviewdata['text'].apply(tokenizer.tokenize)\n",
    "\n",
    "reviewdata['textlen']=[len(lis) for lis in reviewdata.text]"
   ]
  },
  {
   "cell_type": "markdown",
   "metadata": {},
   "source": [
    "Out of curiosity, the distribution of a review length by each star rating is depicted in the histogram below. Interestingly, reviews with 1.5 stars have the highest review length on average. This implies that horrendous restaurant experiences cause the average user to write out all they have to say about their experience."
   ]
  },
  {
   "cell_type": "code",
   "execution_count": 102,
   "metadata": {},
   "outputs": [
    {
     "data": {
      "image/png": "[encoded data removed]",
      "text/plain": [
       "<Figure size 432x288 with 1 Axes>"
      ]
     },
     "metadata": {
      "needs_background": "light"
     },
     "output_type": "display_data"
    }
   ],
   "source": [
    "plot=reviewdata.groupby(['stars1'])['textlen'].agg(['mean']).plot(kind=\"bar\",title='Average Review Length by Star Rating')"
   ]
  },
  {
   "cell_type": "markdown",
   "metadata": {},
   "source": [
    "Similarly, average review length by price range is depicted below. As the dollar signs increase, the average review length increases as well. This may be due to a 1 dollar sign restaurant being viewed as \"lower stakes\" as a relatively lower amount of money was spent, but with regard to a 4 dollar sign restaurant, it is a significantly higher investment. Customers would want to be more informed about a costly restaurant before risking trying it."
   ]
  },
  {
   "cell_type": "code",
   "execution_count": 103,
   "metadata": {},
   "outputs": [
    {
     "data": {
      "image/png": "[encoded data removed]",
      "text/plain": [
       "<Figure size 432x288 with 1 Axes>"
      ]
     },
     "metadata": {
      "needs_background": "light"
     },
     "output_type": "display_data"
    }
   ],
   "source": [
    "plot=reviewdata.groupby(['attributes.Price Range'])['textlen'].agg(['mean']).plot(kind=\"bar\",title='Average Review Word Length by Price Range')"
   ]
  },
  {
   "cell_type": "markdown",
   "metadata": {},
   "source": [
    "All words are converted to lowercase in the following step. It would not be desirable to count 2 words as distinct if their only differing factor is case (e.g. \"I'm\" vs \"i'm\".)"
   ]
  },
  {
   "cell_type": "code",
   "execution_count": 104,
   "metadata": {},
   "outputs": [
    {
     "data": {
      "text/plain": [
       "0    [good, back, home, type, of, food, and, the, b...\n",
       "1    [too, many, fun, memories, here, mostly, drink...\n",
       "2    [i've, been, back, twice, now, the, first, tim...\n",
       "3    [great, place, for, a, late, night, meal, cool...\n",
       "4    [i, used, to, love, this, place, but, over, ti...\n",
       "5    [green, catered, my, anniversary, party, recen...\n",
       "6    [leaving, las, vegas, and, heading, back, to, ...\n",
       "7    [so, i, have, not, been, at, a, rainforest, ca...\n",
       "8    [i, was, excited, to, try, cravings, at, the, ...\n",
       "9    [blah, just, walking, into, this, establishmen...\n",
       "Name: text, dtype: object"
      ]
     },
     "execution_count": 104,
     "metadata": {},
     "output_type": "execute_result"
    }
   ],
   "source": [
    "reviewdata.text=[[word.lower() for word in rev] for rev in reviewdata.text]\n",
    "reviewdata.text.head(10)"
   ]
  },
  {
   "cell_type": "markdown",
   "metadata": {},
   "source": [
    "In the following step, English stopwords were imported and a function was created to remove all stopwords within each review text list. When doing a form of classification, it is important to remove stopwords as there are bound to be sets of words that are common amongst any body of text (e.g. \"and\",\"the\"). Keeping these words makes it harder for the eventual model to differentiate between two sets of text and make the proper classification."
   ]
  },
  {
   "cell_type": "code",
   "execution_count": 105,
   "metadata": {},
   "outputs": [
    {
     "data": {
      "text/html": [
       "<div>\n",
       "<style scoped>\n",
       "    .dataframe tbody tr th:only-of-type {\n",
       "        vertical-align: middle;\n",
       "    }\n",
       "\n",
       "    .dataframe tbody tr th {\n",
       "        vertical-align: top;\n",
       "    }\n",
       "\n",
       "    .dataframe thead th {\n",
       "        text-align: right;\n",
       "    }\n",
       "</style>\n",
       "<table border=\"1\" class=\"dataframe\">\n",
       "  <thead>\n",
       "    <tr style=\"text-align: right;\">\n",
       "      <th></th>\n",
       "      <th>user_id</th>\n",
       "      <th>review_id</th>\n",
       "      <th>text</th>\n",
       "      <th>votes.cool</th>\n",
       "      <th>business_id</th>\n",
       "      <th>votes.funny</th>\n",
       "      <th>stars</th>\n",
       "      <th>date</th>\n",
       "      <th>YEAR</th>\n",
       "      <th>votes.useful</th>\n",
       "      <th>...</th>\n",
       "      <th>attributes.Price Range</th>\n",
       "      <th>review_count</th>\n",
       "      <th>stars1</th>\n",
       "      <th>Votestot</th>\n",
       "      <th>Unnamed: 16</th>\n",
       "      <th>Unnamed: 17</th>\n",
       "      <th>Unnamed: 18</th>\n",
       "      <th>Unnamed: 19</th>\n",
       "      <th>Unnamed: 20</th>\n",
       "      <th>textlen</th>\n",
       "    </tr>\n",
       "  </thead>\n",
       "  <tbody>\n",
       "    <tr>\n",
       "      <th>0</th>\n",
       "      <td>__FtIsjOxPkqiYfQedYgTg</td>\n",
       "      <td>4Rs8MQBEzfXLrM8Srf5ZFw</td>\n",
       "      <td>[good, back, home, type, best, service, smile,...</td>\n",
       "      <td>0.0</td>\n",
       "      <td>VkPzsY09S4zO0XqhA1mc6Q</td>\n",
       "      <td>0.0</td>\n",
       "      <td>4.0</td>\n",
       "      <td>2014-07-05</td>\n",
       "      <td>2014.0</td>\n",
       "      <td>0.0</td>\n",
       "      <td>...</td>\n",
       "      <td>2.0</td>\n",
       "      <td>488.0</td>\n",
       "      <td>4.5</td>\n",
       "      <td>4.0</td>\n",
       "      <td>NaN</td>\n",
       "      <td>NaN</td>\n",
       "      <td>NaN</td>\n",
       "      <td>NaN</td>\n",
       "      <td>NaN</td>\n",
       "      <td>50</td>\n",
       "    </tr>\n",
       "    <tr>\n",
       "      <th>1</th>\n",
       "      <td>__FtIsjOxPkqiYfQedYgTg</td>\n",
       "      <td>uxqjGjYC8OId-JS-GVLOrQ</td>\n",
       "      <td>[many, fun, memories, mostly, drinking, servic...</td>\n",
       "      <td>0.0</td>\n",
       "      <td>U87W6T9vjwWnp28Zjnn4pQ</td>\n",
       "      <td>0.0</td>\n",
       "      <td>4.0</td>\n",
       "      <td>2014-07-01</td>\n",
       "      <td>2014.0</td>\n",
       "      <td>0.0</td>\n",
       "      <td>...</td>\n",
       "      <td>2.0</td>\n",
       "      <td>281.0</td>\n",
       "      <td>3.5</td>\n",
       "      <td>4.0</td>\n",
       "      <td>NaN</td>\n",
       "      <td>NaN</td>\n",
       "      <td>NaN</td>\n",
       "      <td>NaN</td>\n",
       "      <td>NaN</td>\n",
       "      <td>37</td>\n",
       "    </tr>\n",
       "    <tr>\n",
       "      <th>2</th>\n",
       "      <td>__FXEOrWIjXMOElz2pGlBQ</td>\n",
       "      <td>2KAfm9Lqh-1-qUe8V1cc6w</td>\n",
       "      <td>[i've, back, twice, first, time, ordered, chim...</td>\n",
       "      <td>0.0</td>\n",
       "      <td>aS-mHlVamCV2rTiw8RrNdw</td>\n",
       "      <td>0.0</td>\n",
       "      <td>5.0</td>\n",
       "      <td>2014-05-08</td>\n",
       "      <td>2014.0</td>\n",
       "      <td>0.0</td>\n",
       "      <td>...</td>\n",
       "      <td>2.0</td>\n",
       "      <td>55.0</td>\n",
       "      <td>4.0</td>\n",
       "      <td>5.0</td>\n",
       "      <td>NaN</td>\n",
       "      <td>NaN</td>\n",
       "      <td>NaN</td>\n",
       "      <td>NaN</td>\n",
       "      <td>NaN</td>\n",
       "      <td>50</td>\n",
       "    </tr>\n",
       "    <tr>\n",
       "      <th>3</th>\n",
       "      <td>__JgFZ3h2LyTMTtZdf0HYw</td>\n",
       "      <td>SkR3zBOXJggDAIq5qzEUHg</td>\n",
       "      <td>[great, place, late, night, meal, cool, atomos...</td>\n",
       "      <td>0.0</td>\n",
       "      <td>4bEjOyTaDG24SY5TxsaUNQ</td>\n",
       "      <td>0.0</td>\n",
       "      <td>4.0</td>\n",
       "      <td>2014-03-20</td>\n",
       "      <td>2014.0</td>\n",
       "      <td>0.0</td>\n",
       "      <td>...</td>\n",
       "      <td>2.0</td>\n",
       "      <td>4084.0</td>\n",
       "      <td>4.0</td>\n",
       "      <td>4.0</td>\n",
       "      <td>NaN</td>\n",
       "      <td>NaN</td>\n",
       "      <td>NaN</td>\n",
       "      <td>NaN</td>\n",
       "      <td>NaN</td>\n",
       "      <td>25</td>\n",
       "    </tr>\n",
       "    <tr>\n",
       "      <th>4</th>\n",
       "      <td>__JmvLJkdl_n48eZCFa4Sg</td>\n",
       "      <td>-XB4eE01MT9qwqj5PSmbvw</td>\n",
       "      <td>[used, love, place, time, service, gotten, hor...</td>\n",
       "      <td>0.0</td>\n",
       "      <td>eLPld7Q17XxlclFGzZQX5g</td>\n",
       "      <td>0.0</td>\n",
       "      <td>1.0</td>\n",
       "      <td>2014-07-03</td>\n",
       "      <td>2014.0</td>\n",
       "      <td>0.0</td>\n",
       "      <td>...</td>\n",
       "      <td>2.0</td>\n",
       "      <td>874.0</td>\n",
       "      <td>4.0</td>\n",
       "      <td>1.0</td>\n",
       "      <td>NaN</td>\n",
       "      <td>NaN</td>\n",
       "      <td>NaN</td>\n",
       "      <td>NaN</td>\n",
       "      <td>NaN</td>\n",
       "      <td>79</td>\n",
       "    </tr>\n",
       "  </tbody>\n",
       "</table>\n",
       "<p>5 rows × 22 columns</p>\n",
       "</div>"
      ],
      "text/plain": [
       "                  user_id               review_id  \\\n",
       "0  __FtIsjOxPkqiYfQedYgTg  4Rs8MQBEzfXLrM8Srf5ZFw   \n",
       "1  __FtIsjOxPkqiYfQedYgTg  uxqjGjYC8OId-JS-GVLOrQ   \n",
       "2  __FXEOrWIjXMOElz2pGlBQ  2KAfm9Lqh-1-qUe8V1cc6w   \n",
       "3  __JgFZ3h2LyTMTtZdf0HYw  SkR3zBOXJggDAIq5qzEUHg   \n",
       "4  __JmvLJkdl_n48eZCFa4Sg  -XB4eE01MT9qwqj5PSmbvw   \n",
       "\n",
       "                                                text  votes.cool  \\\n",
       "0  [good, back, home, type, best, service, smile,...         0.0   \n",
       "1  [many, fun, memories, mostly, drinking, servic...         0.0   \n",
       "2  [i've, back, twice, first, time, ordered, chim...         0.0   \n",
       "3  [great, place, late, night, meal, cool, atomos...         0.0   \n",
       "4  [used, love, place, time, service, gotten, hor...         0.0   \n",
       "\n",
       "              business_id  votes.funny  stars        date    YEAR  \\\n",
       "0  VkPzsY09S4zO0XqhA1mc6Q          0.0    4.0  2014-07-05  2014.0   \n",
       "1  U87W6T9vjwWnp28Zjnn4pQ          0.0    4.0  2014-07-01  2014.0   \n",
       "2  aS-mHlVamCV2rTiw8RrNdw          0.0    5.0  2014-05-08  2014.0   \n",
       "3  4bEjOyTaDG24SY5TxsaUNQ          0.0    4.0  2014-03-20  2014.0   \n",
       "4  eLPld7Q17XxlclFGzZQX5g          0.0    1.0  2014-07-03  2014.0   \n",
       "\n",
       "   votes.useful  ... attributes.Price Range review_count  stars1  Votestot  \\\n",
       "0           0.0  ...                    2.0        488.0     4.5       4.0   \n",
       "1           0.0  ...                    2.0        281.0     3.5       4.0   \n",
       "2           0.0  ...                    2.0         55.0     4.0       5.0   \n",
       "3           0.0  ...                    2.0       4084.0     4.0       4.0   \n",
       "4           0.0  ...                    2.0        874.0     4.0       1.0   \n",
       "\n",
       "   Unnamed: 16  Unnamed: 17  Unnamed: 18  Unnamed: 19  Unnamed: 20  textlen  \n",
       "0          NaN          NaN          NaN          NaN          NaN       50  \n",
       "1          NaN          NaN          NaN          NaN          NaN       37  \n",
       "2          NaN          NaN          NaN          NaN          NaN       50  \n",
       "3          NaN          NaN          NaN          NaN          NaN       25  \n",
       "4          NaN          NaN          NaN          NaN          NaN       79  \n",
       "\n",
       "[5 rows x 22 columns]"
      ]
     },
     "execution_count": 105,
     "metadata": {},
     "output_type": "execute_result"
    }
   ],
   "source": [
    "sw=stopwords.words('english')\n",
    "\n",
    "def removestopwords(list):\n",
    "    removed=[word for word in list if word not in sw]\n",
    "    return removed\n",
    "reviewdata.text=reviewdata.text.apply(removestopwords)\n",
    "\n",
    "sw+=list([\"food\",'like'])\n",
    "reviewdata.text=reviewdata.text.apply(removestopwords)\n",
    "\n",
    "reviewdata.head(5)"
   ]
  },
  {
   "cell_type": "markdown",
   "metadata": {},
   "source": [
    "As seen below the 'stars1' field is used to map good and bad reviews, at least on a rudimentary level. As a rule of thumb, the model will first consider all reviews with a star count of less than 3.5 as a \"bad\" review, and greater than 3.5 as a \"good review. This designation is not permanent and will be changed in the event of needing further differentiation."
   ]
  },
  {
   "cell_type": "code",
   "execution_count": 106,
   "metadata": {},
   "outputs": [
    {
     "data": {
      "text/html": [
       "<div>\n",
       "<style scoped>\n",
       "    .dataframe tbody tr th:only-of-type {\n",
       "        vertical-align: middle;\n",
       "    }\n",
       "\n",
       "    .dataframe tbody tr th {\n",
       "        vertical-align: top;\n",
       "    }\n",
       "\n",
       "    .dataframe thead th {\n",
       "        text-align: right;\n",
       "    }\n",
       "</style>\n",
       "<table border=\"1\" class=\"dataframe\">\n",
       "  <thead>\n",
       "    <tr style=\"text-align: right;\">\n",
       "      <th></th>\n",
       "      <th>user_id</th>\n",
       "      <th>review_id</th>\n",
       "      <th>text</th>\n",
       "      <th>votes.cool</th>\n",
       "      <th>business_id</th>\n",
       "      <th>votes.funny</th>\n",
       "      <th>stars</th>\n",
       "      <th>date</th>\n",
       "      <th>YEAR</th>\n",
       "      <th>votes.useful</th>\n",
       "      <th>...</th>\n",
       "      <th>stars1</th>\n",
       "      <th>Votestot</th>\n",
       "      <th>Unnamed: 16</th>\n",
       "      <th>Unnamed: 17</th>\n",
       "      <th>Unnamed: 18</th>\n",
       "      <th>Unnamed: 19</th>\n",
       "      <th>Unnamed: 20</th>\n",
       "      <th>textlen</th>\n",
       "      <th>rating</th>\n",
       "      <th>realrating</th>\n",
       "    </tr>\n",
       "  </thead>\n",
       "  <tbody>\n",
       "    <tr>\n",
       "      <th>0</th>\n",
       "      <td>__FtIsjOxPkqiYfQedYgTg</td>\n",
       "      <td>4Rs8MQBEzfXLrM8Srf5ZFw</td>\n",
       "      <td>[good, back, home, type, best, service, smile,...</td>\n",
       "      <td>0.0</td>\n",
       "      <td>VkPzsY09S4zO0XqhA1mc6Q</td>\n",
       "      <td>0.0</td>\n",
       "      <td>4.0</td>\n",
       "      <td>2014-07-05</td>\n",
       "      <td>2014.0</td>\n",
       "      <td>0.0</td>\n",
       "      <td>...</td>\n",
       "      <td>4.5</td>\n",
       "      <td>4.0</td>\n",
       "      <td>NaN</td>\n",
       "      <td>NaN</td>\n",
       "      <td>NaN</td>\n",
       "      <td>NaN</td>\n",
       "      <td>NaN</td>\n",
       "      <td>50</td>\n",
       "      <td>good</td>\n",
       "      <td>1.0</td>\n",
       "    </tr>\n",
       "    <tr>\n",
       "      <th>1</th>\n",
       "      <td>__FtIsjOxPkqiYfQedYgTg</td>\n",
       "      <td>uxqjGjYC8OId-JS-GVLOrQ</td>\n",
       "      <td>[many, fun, memories, mostly, drinking, servic...</td>\n",
       "      <td>0.0</td>\n",
       "      <td>U87W6T9vjwWnp28Zjnn4pQ</td>\n",
       "      <td>0.0</td>\n",
       "      <td>4.0</td>\n",
       "      <td>2014-07-01</td>\n",
       "      <td>2014.0</td>\n",
       "      <td>0.0</td>\n",
       "      <td>...</td>\n",
       "      <td>3.5</td>\n",
       "      <td>4.0</td>\n",
       "      <td>NaN</td>\n",
       "      <td>NaN</td>\n",
       "      <td>NaN</td>\n",
       "      <td>NaN</td>\n",
       "      <td>NaN</td>\n",
       "      <td>37</td>\n",
       "      <td>bad</td>\n",
       "      <td>0.0</td>\n",
       "    </tr>\n",
       "    <tr>\n",
       "      <th>2</th>\n",
       "      <td>__FXEOrWIjXMOElz2pGlBQ</td>\n",
       "      <td>2KAfm9Lqh-1-qUe8V1cc6w</td>\n",
       "      <td>[i've, back, twice, first, time, ordered, chim...</td>\n",
       "      <td>0.0</td>\n",
       "      <td>aS-mHlVamCV2rTiw8RrNdw</td>\n",
       "      <td>0.0</td>\n",
       "      <td>5.0</td>\n",
       "      <td>2014-05-08</td>\n",
       "      <td>2014.0</td>\n",
       "      <td>0.0</td>\n",
       "      <td>...</td>\n",
       "      <td>4.0</td>\n",
       "      <td>5.0</td>\n",
       "      <td>NaN</td>\n",
       "      <td>NaN</td>\n",
       "      <td>NaN</td>\n",
       "      <td>NaN</td>\n",
       "      <td>NaN</td>\n",
       "      <td>50</td>\n",
       "      <td>good</td>\n",
       "      <td>1.0</td>\n",
       "    </tr>\n",
       "    <tr>\n",
       "      <th>3</th>\n",
       "      <td>__JgFZ3h2LyTMTtZdf0HYw</td>\n",
       "      <td>SkR3zBOXJggDAIq5qzEUHg</td>\n",
       "      <td>[great, place, late, night, meal, cool, atomos...</td>\n",
       "      <td>0.0</td>\n",
       "      <td>4bEjOyTaDG24SY5TxsaUNQ</td>\n",
       "      <td>0.0</td>\n",
       "      <td>4.0</td>\n",
       "      <td>2014-03-20</td>\n",
       "      <td>2014.0</td>\n",
       "      <td>0.0</td>\n",
       "      <td>...</td>\n",
       "      <td>4.0</td>\n",
       "      <td>4.0</td>\n",
       "      <td>NaN</td>\n",
       "      <td>NaN</td>\n",
       "      <td>NaN</td>\n",
       "      <td>NaN</td>\n",
       "      <td>NaN</td>\n",
       "      <td>25</td>\n",
       "      <td>good</td>\n",
       "      <td>1.0</td>\n",
       "    </tr>\n",
       "    <tr>\n",
       "      <th>4</th>\n",
       "      <td>__JmvLJkdl_n48eZCFa4Sg</td>\n",
       "      <td>-XB4eE01MT9qwqj5PSmbvw</td>\n",
       "      <td>[used, love, place, time, service, gotten, hor...</td>\n",
       "      <td>0.0</td>\n",
       "      <td>eLPld7Q17XxlclFGzZQX5g</td>\n",
       "      <td>0.0</td>\n",
       "      <td>1.0</td>\n",
       "      <td>2014-07-03</td>\n",
       "      <td>2014.0</td>\n",
       "      <td>0.0</td>\n",
       "      <td>...</td>\n",
       "      <td>4.0</td>\n",
       "      <td>1.0</td>\n",
       "      <td>NaN</td>\n",
       "      <td>NaN</td>\n",
       "      <td>NaN</td>\n",
       "      <td>NaN</td>\n",
       "      <td>NaN</td>\n",
       "      <td>79</td>\n",
       "      <td>good</td>\n",
       "      <td>1.0</td>\n",
       "    </tr>\n",
       "  </tbody>\n",
       "</table>\n",
       "<p>5 rows × 24 columns</p>\n",
       "</div>"
      ],
      "text/plain": [
       "                  user_id               review_id  \\\n",
       "0  __FtIsjOxPkqiYfQedYgTg  4Rs8MQBEzfXLrM8Srf5ZFw   \n",
       "1  __FtIsjOxPkqiYfQedYgTg  uxqjGjYC8OId-JS-GVLOrQ   \n",
       "2  __FXEOrWIjXMOElz2pGlBQ  2KAfm9Lqh-1-qUe8V1cc6w   \n",
       "3  __JgFZ3h2LyTMTtZdf0HYw  SkR3zBOXJggDAIq5qzEUHg   \n",
       "4  __JmvLJkdl_n48eZCFa4Sg  -XB4eE01MT9qwqj5PSmbvw   \n",
       "\n",
       "                                                text  votes.cool  \\\n",
       "0  [good, back, home, type, best, service, smile,...         0.0   \n",
       "1  [many, fun, memories, mostly, drinking, servic...         0.0   \n",
       "2  [i've, back, twice, first, time, ordered, chim...         0.0   \n",
       "3  [great, place, late, night, meal, cool, atomos...         0.0   \n",
       "4  [used, love, place, time, service, gotten, hor...         0.0   \n",
       "\n",
       "              business_id  votes.funny  stars        date    YEAR  \\\n",
       "0  VkPzsY09S4zO0XqhA1mc6Q          0.0    4.0  2014-07-05  2014.0   \n",
       "1  U87W6T9vjwWnp28Zjnn4pQ          0.0    4.0  2014-07-01  2014.0   \n",
       "2  aS-mHlVamCV2rTiw8RrNdw          0.0    5.0  2014-05-08  2014.0   \n",
       "3  4bEjOyTaDG24SY5TxsaUNQ          0.0    4.0  2014-03-20  2014.0   \n",
       "4  eLPld7Q17XxlclFGzZQX5g          0.0    1.0  2014-07-03  2014.0   \n",
       "\n",
       "   votes.useful  ... stars1 Votestot  Unnamed: 16  Unnamed: 17  Unnamed: 18  \\\n",
       "0           0.0  ...    4.5      4.0          NaN          NaN          NaN   \n",
       "1           0.0  ...    3.5      4.0          NaN          NaN          NaN   \n",
       "2           0.0  ...    4.0      5.0          NaN          NaN          NaN   \n",
       "3           0.0  ...    4.0      4.0          NaN          NaN          NaN   \n",
       "4           0.0  ...    4.0      1.0          NaN          NaN          NaN   \n",
       "\n",
       "   Unnamed: 19  Unnamed: 20  textlen  rating  realrating  \n",
       "0          NaN          NaN       50    good         1.0  \n",
       "1          NaN          NaN       37     bad         0.0  \n",
       "2          NaN          NaN       50    good         1.0  \n",
       "3          NaN          NaN       25    good         1.0  \n",
       "4          NaN          NaN       79    good         1.0  \n",
       "\n",
       "[5 rows x 24 columns]"
      ]
     },
     "execution_count": 106,
     "metadata": {},
     "output_type": "execute_result"
    }
   ],
   "source": [
    "conditions = [\n",
    "    (reviewdata['stars1'] <=3.5),\n",
    "    (reviewdata['stars1'] > 3.5)\n",
    "]\n",
    "\n",
    "values = ['bad', 'good']\n",
    "\n",
    "dictrat={'bad':0,'good':1}\n",
    "\n",
    "reviewdata['rating']=np.select(conditions,values)\n",
    "reviewdata['realrating']=reviewdata.rating.map(dictrat)\n",
    "\n",
    "reviewdata=reviewdata[reviewdata['rating'].isin(['bad','good'])]\n",
    "\n",
    "reviewdata.rating.value_counts()\n",
    "reviewdata.head(5)"
   ]
  },
  {
   "cell_type": "markdown",
   "metadata": {},
   "source": [
    "Below, the word distributions between bad and good reviews are plotted, in order to get up a sense of the differences between the two categories. Both distributions contain good and place as the most frequent words. This makes sense when considering the hypothetical of asking someone whether a restaurant was worth trying. Most would likely start by describing their experience with the food as good or not good. The first words being the most common amongst both sets may prove to be problematic as it would create noise within the model. If necessary, modifications on these words will be applied."
   ]
  },
  {
   "cell_type": "code",
   "execution_count": 107,
   "metadata": {},
   "outputs": [
    {
     "data": {
      "image/png": "[encoded data removed]",
      "text/plain": [
       "<Figure size 1080x1080 with 2 Axes>"
      ]
     },
     "metadata": {
      "needs_background": "light"
     },
     "output_type": "display_data"
    }
   ],
   "source": [
    "def setup_two_subplots():\n",
    "    fig = plt.figure(figsize=(15,15))\n",
    "    fig.set_tight_layout(True)\n",
    "    gs = fig.add_gridspec(3, 6)\n",
    "    ax1 = fig.add_subplot(gs[0, :2]) \n",
    "    ax2 = fig.add_subplot(gs[0, 2:4])\n",
    "\n",
    "    return fig, [ax1, ax2]\n",
    "\n",
    "fig, axes = setup_two_subplots()\n",
    "\n",
    "ratingdict={'bad':0,'good':1}\n",
    "\n",
    "def plot_distribution_of_column_by_category(df, axes, title=\"Word Frequency for\"):\n",
    "    ratingmostcommon={}\n",
    "    for key, value in ratingdict.items():\n",
    "        all_words=df[df['rating'] == key]['text'].explode()\n",
    "        freq_dist = FreqDist(all_words)\n",
    "        top_15 = list(zip(*freq_dist.most_common(15)))\n",
    "        tokens = top_15[0]\n",
    "        counts = top_15[1]\n",
    "        ax=axes[value]\n",
    "        ax.bar(tokens, counts)\n",
    "        ax.set_title(f\"{title} {key}\")\n",
    "        ax.set_ylabel(\"Count\")\n",
    "        ax.tick_params(axis=\"x\", rotation=90)\n",
    "        plt.rcParams.update({'font.size':15})\n",
    "\n",
    "plot_distribution_of_column_by_category(reviewdata, axes)\n",
    "fig.suptitle(\"Word Frequencies for All Tokens\", fontsize=24);"
   ]
  },
  {
   "cell_type": "markdown",
   "metadata": {},
   "source": [
    "## Data Modeling"
   ]
  },
  {
   "cell_type": "markdown",
   "metadata": {},
   "source": [
    "The text data has now been cleaned and is ready to be modeled. In order to initialize modeling, the full dataset is split into training and testing groups so that the models can be evaluated in the presence of \"new data\". Review text is represented by X, and the assigned rating (good/bad) defined by the preceding step is represented by y."
   ]
  },
  {
   "cell_type": "code",
   "execution_count": 108,
   "metadata": {},
   "outputs": [],
   "source": [
    "X=reviewdata.text\n",
    "y=reviewdata.rating\n",
    "\n",
    "X_train, X_test, y_train, y_test = train_test_split(X,y, test_size=.25, random_state=42)"
   ]
  },
  {
   "cell_type": "markdown",
   "metadata": {},
   "source": [
    "### Model 1: TF-IDF Vectorizer + Multinomial Naive Bayes"
   ]
  },
  {
   "cell_type": "markdown",
   "metadata": {},
   "source": [
    "In order to further prep the data, a term-frequency inverse document frequency vectorizer is initialized. Vectorizers are necessary for this process, as they provide a method of converting text data, currently in the form of lists, into a form that a model can understand. A TF-IDF vectorizer, also known as Term Frequency-Inverse Document Frequency, will be used. This vectorizer is ideal for use in the case of multiple review documents, and due to the nature of the calculation, it implies rare words contain more information than common words. Term Frequency (TF) represents the presence of a word in a document as a fraction, while Inverse Document Frequency (IDF) represents the prevalence of the word across all documents. By multiplying the two, a value for the importance each word has in the entire document base is obtained.\n",
    "\n",
    "The max_df is specified as 1000, which implies that words are only considered as identifiers for the model if they appear in less than 1000 distinct documents. The min_df is specified as 30, which implies that words are only considered as identifiers for the model if they appear in more than 30 distinct documents. Words that appear too frequently/not frequently enough are not desirable, as their inclusion may decrease resulting performance."
   ]
  },
  {
   "cell_type": "code",
   "execution_count": 109,
   "metadata": {},
   "outputs": [
    {
     "data": {
      "text/html": [
       "<div>\n",
       "<style scoped>\n",
       "    .dataframe tbody tr th:only-of-type {\n",
       "        vertical-align: middle;\n",
       "    }\n",
       "\n",
       "    .dataframe tbody tr th {\n",
       "        vertical-align: top;\n",
       "    }\n",
       "\n",
       "    .dataframe thead th {\n",
       "        text-align: right;\n",
       "    }\n",
       "</style>\n",
       "<table border=\"1\" class=\"dataframe\">\n",
       "  <thead>\n",
       "    <tr style=\"text-align: right;\">\n",
       "      <th></th>\n",
       "      <th>aaron</th>\n",
       "      <th>ability</th>\n",
       "      <th>absent</th>\n",
       "      <th>absinthe</th>\n",
       "      <th>absolute</th>\n",
       "      <th>absurd</th>\n",
       "      <th>abundance</th>\n",
       "      <th>abundant</th>\n",
       "      <th>ac</th>\n",
       "      <th>acai</th>\n",
       "      <th>...</th>\n",
       "      <th>zero</th>\n",
       "      <th>zest</th>\n",
       "      <th>zesty</th>\n",
       "      <th>zing</th>\n",
       "      <th>zip</th>\n",
       "      <th>zipps</th>\n",
       "      <th>ziti</th>\n",
       "      <th>zone</th>\n",
       "      <th>zoo</th>\n",
       "      <th>zucchini</th>\n",
       "    </tr>\n",
       "  </thead>\n",
       "  <tbody>\n",
       "    <tr>\n",
       "      <th>0</th>\n",
       "      <td>0.0</td>\n",
       "      <td>0.0</td>\n",
       "      <td>0.0</td>\n",
       "      <td>0.0</td>\n",
       "      <td>0.0</td>\n",
       "      <td>0.0</td>\n",
       "      <td>0.0</td>\n",
       "      <td>0.0</td>\n",
       "      <td>0.0</td>\n",
       "      <td>0.0</td>\n",
       "      <td>...</td>\n",
       "      <td>0.0</td>\n",
       "      <td>0.0</td>\n",
       "      <td>0.0</td>\n",
       "      <td>0.0</td>\n",
       "      <td>0.0</td>\n",
       "      <td>0.0</td>\n",
       "      <td>0.0</td>\n",
       "      <td>0.0</td>\n",
       "      <td>0.0</td>\n",
       "      <td>0.0</td>\n",
       "    </tr>\n",
       "    <tr>\n",
       "      <th>1</th>\n",
       "      <td>0.0</td>\n",
       "      <td>0.0</td>\n",
       "      <td>0.0</td>\n",
       "      <td>0.0</td>\n",
       "      <td>0.0</td>\n",
       "      <td>0.0</td>\n",
       "      <td>0.0</td>\n",
       "      <td>0.0</td>\n",
       "      <td>0.0</td>\n",
       "      <td>0.0</td>\n",
       "      <td>...</td>\n",
       "      <td>0.0</td>\n",
       "      <td>0.0</td>\n",
       "      <td>0.0</td>\n",
       "      <td>0.0</td>\n",
       "      <td>0.0</td>\n",
       "      <td>0.0</td>\n",
       "      <td>0.0</td>\n",
       "      <td>0.0</td>\n",
       "      <td>0.0</td>\n",
       "      <td>0.0</td>\n",
       "    </tr>\n",
       "    <tr>\n",
       "      <th>2</th>\n",
       "      <td>0.0</td>\n",
       "      <td>0.0</td>\n",
       "      <td>0.0</td>\n",
       "      <td>0.0</td>\n",
       "      <td>0.0</td>\n",
       "      <td>0.0</td>\n",
       "      <td>0.0</td>\n",
       "      <td>0.0</td>\n",
       "      <td>0.0</td>\n",
       "      <td>0.0</td>\n",
       "      <td>...</td>\n",
       "      <td>0.0</td>\n",
       "      <td>0.0</td>\n",
       "      <td>0.0</td>\n",
       "      <td>0.0</td>\n",
       "      <td>0.0</td>\n",
       "      <td>0.0</td>\n",
       "      <td>0.0</td>\n",
       "      <td>0.0</td>\n",
       "      <td>0.0</td>\n",
       "      <td>0.0</td>\n",
       "    </tr>\n",
       "    <tr>\n",
       "      <th>3</th>\n",
       "      <td>0.0</td>\n",
       "      <td>0.0</td>\n",
       "      <td>0.0</td>\n",
       "      <td>0.0</td>\n",
       "      <td>0.0</td>\n",
       "      <td>0.0</td>\n",
       "      <td>0.0</td>\n",
       "      <td>0.0</td>\n",
       "      <td>0.0</td>\n",
       "      <td>0.0</td>\n",
       "      <td>...</td>\n",
       "      <td>0.0</td>\n",
       "      <td>0.0</td>\n",
       "      <td>0.0</td>\n",
       "      <td>0.0</td>\n",
       "      <td>0.0</td>\n",
       "      <td>0.0</td>\n",
       "      <td>0.0</td>\n",
       "      <td>0.0</td>\n",
       "      <td>0.0</td>\n",
       "      <td>0.0</td>\n",
       "    </tr>\n",
       "    <tr>\n",
       "      <th>4</th>\n",
       "      <td>0.0</td>\n",
       "      <td>0.0</td>\n",
       "      <td>0.0</td>\n",
       "      <td>0.0</td>\n",
       "      <td>0.0</td>\n",
       "      <td>0.0</td>\n",
       "      <td>0.0</td>\n",
       "      <td>0.0</td>\n",
       "      <td>0.0</td>\n",
       "      <td>0.0</td>\n",
       "      <td>...</td>\n",
       "      <td>0.0</td>\n",
       "      <td>0.0</td>\n",
       "      <td>0.0</td>\n",
       "      <td>0.0</td>\n",
       "      <td>0.0</td>\n",
       "      <td>0.0</td>\n",
       "      <td>0.0</td>\n",
       "      <td>0.0</td>\n",
       "      <td>0.0</td>\n",
       "      <td>0.0</td>\n",
       "    </tr>\n",
       "  </tbody>\n",
       "</table>\n",
       "<p>5 rows × 6285 columns</p>\n",
       "</div>"
      ],
      "text/plain": [
       "   aaron  ability  absent  absinthe  absolute  absurd  abundance  abundant  \\\n",
       "0    0.0      0.0     0.0       0.0       0.0     0.0        0.0       0.0   \n",
       "1    0.0      0.0     0.0       0.0       0.0     0.0        0.0       0.0   \n",
       "2    0.0      0.0     0.0       0.0       0.0     0.0        0.0       0.0   \n",
       "3    0.0      0.0     0.0       0.0       0.0     0.0        0.0       0.0   \n",
       "4    0.0      0.0     0.0       0.0       0.0     0.0        0.0       0.0   \n",
       "\n",
       "    ac  acai  ...  zero  zest  zesty  zing  zip  zipps  ziti  zone  zoo  \\\n",
       "0  0.0   0.0  ...   0.0   0.0    0.0   0.0  0.0    0.0   0.0   0.0  0.0   \n",
       "1  0.0   0.0  ...   0.0   0.0    0.0   0.0  0.0    0.0   0.0   0.0  0.0   \n",
       "2  0.0   0.0  ...   0.0   0.0    0.0   0.0  0.0    0.0   0.0   0.0  0.0   \n",
       "3  0.0   0.0  ...   0.0   0.0    0.0   0.0  0.0    0.0   0.0   0.0  0.0   \n",
       "4  0.0   0.0  ...   0.0   0.0    0.0   0.0  0.0    0.0   0.0   0.0  0.0   \n",
       "\n",
       "   zucchini  \n",
       "0       0.0  \n",
       "1       0.0  \n",
       "2       0.0  \n",
       "3       0.0  \n",
       "4       0.0  \n",
       "\n",
       "[5 rows x 6285 columns]"
      ]
     },
     "execution_count": 109,
     "metadata": {},
     "output_type": "execute_result"
    }
   ],
   "source": [
    "tfidf=TfidfVectorizer(min_df=30,max_df=1000)\n",
    "\n",
    "X_traindf=pd.DataFrame(X_train,columns=['text'])\n",
    "X_testdf=pd.DataFrame(X_test,columns=['text'])\n",
    "\n",
    "X_trainvec=tfidf.fit_transform(X_traindf[\"text\"].apply(lambda x: ' '.join(x)))\n",
    "X_testvec=tfidf.transform(X_testdf[\"text\"].apply(lambda x: ' '.join(x)))\n",
    "\n",
    "pd.DataFrame.sparse.from_spmatrix(X_trainvec, columns=tfidf.get_feature_names()).head()"
   ]
  },
  {
   "cell_type": "markdown",
   "metadata": {},
   "source": [
    "Below, a Multinomial Naive Bayes model is instantiated for our model to be fit on, and the plotted confusion matrix helps visualize how well the model did. The MultinomialNB model is essential for text classification, as it involves using conditional probability across the different categorizations, and is generally good for classifying on distinct features.\n",
    "\n",
    "The corresponding confusion matrix, seen below, shows how the model classifies the test/train data using the Multinomial Naive Bayes classifier through counts of true/false positives/negatives.\n",
    "\n",
    "LEGEND:\n",
    "Bad in True label, Bad in Predicted label - True Negative\n",
    "\n",
    "Bad in True label, Good in Predicted label - False Positive\n",
    "\n",
    "Good in True label, Good in Predicted label - True Positive\n",
    "\n",
    "Good in True label, Bad in Predicted label - False Negative"
   ]
  },
  {
   "cell_type": "code",
   "execution_count": 110,
   "metadata": {},
   "outputs": [
    {
     "data": {
      "text/plain": [
       "<sklearn.metrics._plot.confusion_matrix.ConfusionMatrixDisplay at 0x210b2fbf970>"
      ]
     },
     "execution_count": 110,
     "metadata": {},
     "output_type": "execute_result"
    },
    {
     "data": {
      "image/png": "[encoded data removed]",
      "text/plain": [
       "<Figure size 432x288 with 2 Axes>"
      ]
     },
     "metadata": {
      "needs_background": "light"
     },
     "output_type": "display_data"
    }
   ],
   "source": [
    "baseline_model = MultinomialNB()\n",
    "\n",
    "baseline_model.fit(X_trainvec,y_train)\n",
    "y_hattest=baseline_model.predict(X_testvec)\n",
    "y_hattrain=baseline_model.predict(X_trainvec)\n",
    "plot_confusion_matrix(baseline_model, X_testvec, y_test,display_labels=['Bad','Good'])"
   ]
  },
  {
   "cell_type": "markdown",
   "metadata": {},
   "source": [
    "Below, results of the first model can be seen through the classification report. The classification report outputs 3 metrics of critical importance: precision, recall, accuracy, and f1 score.\n",
    "These main metrics help understand how well the model performed in terms of classifying each sreview as Good or Bad.\n",
    "\n",
    "#### Precision:\n",
    "Precision measures how precise the predictions are. Precision is calculated by taking the number of true Good classifications, and dividing by the number of Good song classifications predicted by the model.\n",
    "\n",
    "#### Recall:\n",
    "Recall measures what % of the reviews were actually identified as Good correctly. Recall is calculated by dividing the number of total true Good classifications identified by the model, by the number of actual Good reviews.\n",
    "\n",
    "#### Accuracy:\n",
    "Accuracy evaluates all predictions within the model. Accuracy is calculated by dividing the total correct predictions from the model (both Good/Bad) by the total records in the original dataset.\n",
    "\n",
    "#### F1 Score:\n",
    "F1 Score takes both precision and recall into account to get a cumulative score. The formula is calculated as follows: 2(precision recall)/(precision + recall). This metric is a good measure of overall model performance, as a high F1 score implies both precision and recall are both high as well.\n",
    "\n",
    "As seen below, the initial model performs very poorly on the both test data and training data, despite an accuracy overall of 89%. The confusion matrix shows that our model heavily skews towards predicting Good reviews as correctly. This is due to the overwhelming about of commonalities of word frequency between Good and Bad reviews, which can be fixed in subsequent steps."
   ]
  },
  {
   "cell_type": "code",
   "execution_count": 111,
   "metadata": {},
   "outputs": [
    {
     "name": "stdout",
     "output_type": "stream",
     "text": [
      "Test Data Classification Report\n",
      "_________________________________\n",
      "              precision    recall  f1-score   support\n",
      "\n",
      "         bad       0.67      0.30      0.42      8962\n",
      "        good       0.70      0.92      0.80     16123\n",
      "\n",
      "    accuracy                           0.70     25085\n",
      "   macro avg       0.69      0.61      0.61     25085\n",
      "weighted avg       0.69      0.70      0.66     25085\n",
      "\n",
      "Training Data Classification Report\n",
      "_________________________________\n",
      "              precision    recall  f1-score   support\n",
      "\n",
      "         bad       0.73      0.33      0.46     27245\n",
      "        good       0.71      0.93      0.80     48008\n",
      "\n",
      "    accuracy                           0.71     75253\n",
      "   macro avg       0.72      0.63      0.63     75253\n",
      "weighted avg       0.72      0.71      0.68     75253\n",
      "\n"
     ]
    }
   ],
   "source": [
    "reporttest1=classification_report(y_test, y_hattest)\n",
    "reporttrain1=classification_report(y_train, y_hattrain)\n",
    "\n",
    "print('Test Data Classification Report')\n",
    "print('_________________________________')\n",
    "print(reporttest1)\n",
    "print('Training Data Classification Report')\n",
    "print('_________________________________')\n",
    "print(reporttrain1)"
   ]
  },
  {
   "cell_type": "markdown",
   "metadata": {},
   "source": [
    "### Model 2: TF-IDF Vectorizer + Multinomial Naive Bayes, Changing Conditions For Bad/Good Reviews"
   ]
  },
  {
   "cell_type": "markdown",
   "metadata": {},
   "source": [
    "For the second iteration of the model, since the Multinomial Naive Bayes classifier in conjunction with the TF-IDF vectorizer seemed to be an ideal fit for text data, all model parameters will be kept the same in order to compare similar setups.\n",
    "\n",
    "This time, in an effort to better differentiate Good/Bad reviews while improving overall accuracy score, the overall review set will be limited by filtering out \"mediocre reviews\" identified as the 3-4.5 star rating range. While this limits the overall dataset, better classification results are anticipated through this step. In the initial model results, it seemed as if most reviews under the initial conditions were identified as \"Good\" which makes the overall dataset heavily imbalanced. This step mitigates the discrepancy to a great degree as well. "
   ]
  },
  {
   "cell_type": "code",
   "execution_count": 112,
   "metadata": {},
   "outputs": [
    {
     "data": {
      "text/html": [
       "<div>\n",
       "<style scoped>\n",
       "    .dataframe tbody tr th:only-of-type {\n",
       "        vertical-align: middle;\n",
       "    }\n",
       "\n",
       "    .dataframe tbody tr th {\n",
       "        vertical-align: top;\n",
       "    }\n",
       "\n",
       "    .dataframe thead th {\n",
       "        text-align: right;\n",
       "    }\n",
       "</style>\n",
       "<table border=\"1\" class=\"dataframe\">\n",
       "  <thead>\n",
       "    <tr style=\"text-align: right;\">\n",
       "      <th></th>\n",
       "      <th>user_id</th>\n",
       "      <th>review_id</th>\n",
       "      <th>text</th>\n",
       "      <th>votes.cool</th>\n",
       "      <th>business_id</th>\n",
       "      <th>votes.funny</th>\n",
       "      <th>stars</th>\n",
       "      <th>date</th>\n",
       "      <th>YEAR</th>\n",
       "      <th>votes.useful</th>\n",
       "      <th>...</th>\n",
       "      <th>stars1</th>\n",
       "      <th>Votestot</th>\n",
       "      <th>Unnamed: 16</th>\n",
       "      <th>Unnamed: 17</th>\n",
       "      <th>Unnamed: 18</th>\n",
       "      <th>Unnamed: 19</th>\n",
       "      <th>Unnamed: 20</th>\n",
       "      <th>textlen</th>\n",
       "      <th>rating</th>\n",
       "      <th>realrating</th>\n",
       "    </tr>\n",
       "  </thead>\n",
       "  <tbody>\n",
       "    <tr>\n",
       "      <th>0</th>\n",
       "      <td>__FtIsjOxPkqiYfQedYgTg</td>\n",
       "      <td>4Rs8MQBEzfXLrM8Srf5ZFw</td>\n",
       "      <td>[good, back, home, type, best, service, smile,...</td>\n",
       "      <td>0.0</td>\n",
       "      <td>VkPzsY09S4zO0XqhA1mc6Q</td>\n",
       "      <td>0.0</td>\n",
       "      <td>4.0</td>\n",
       "      <td>2014-07-05</td>\n",
       "      <td>2014.0</td>\n",
       "      <td>0.0</td>\n",
       "      <td>...</td>\n",
       "      <td>4.5</td>\n",
       "      <td>4.0</td>\n",
       "      <td>NaN</td>\n",
       "      <td>NaN</td>\n",
       "      <td>NaN</td>\n",
       "      <td>NaN</td>\n",
       "      <td>NaN</td>\n",
       "      <td>50</td>\n",
       "      <td>good</td>\n",
       "      <td>1.0</td>\n",
       "    </tr>\n",
       "    <tr>\n",
       "      <th>5</th>\n",
       "      <td>__N7qbHbgF4xvqcTkiSrsQ</td>\n",
       "      <td>rZArgGAmPEdGIMVvbZEZAg</td>\n",
       "      <td>[green, catered, anniversary, party, recently,...</td>\n",
       "      <td>0.0</td>\n",
       "      <td>c1yGkETheht_1vjda7G5sA</td>\n",
       "      <td>0.0</td>\n",
       "      <td>4.0</td>\n",
       "      <td>2014-03-22</td>\n",
       "      <td>2014.0</td>\n",
       "      <td>0.0</td>\n",
       "      <td>...</td>\n",
       "      <td>4.5</td>\n",
       "      <td>4.0</td>\n",
       "      <td>NaN</td>\n",
       "      <td>NaN</td>\n",
       "      <td>NaN</td>\n",
       "      <td>NaN</td>\n",
       "      <td>NaN</td>\n",
       "      <td>134</td>\n",
       "      <td>good</td>\n",
       "      <td>1.0</td>\n",
       "    </tr>\n",
       "    <tr>\n",
       "      <th>7</th>\n",
       "      <td>__nLCwboY2RhiLd6hVSexQ</td>\n",
       "      <td>AL_vCYvwJ5vm3QDx1vXBVw</td>\n",
       "      <td>[rainforest, cafe, many, many, many, years, on...</td>\n",
       "      <td>0.0</td>\n",
       "      <td>sxRI0je6hAR-MeBDxdyhug</td>\n",
       "      <td>0.0</td>\n",
       "      <td>3.0</td>\n",
       "      <td>2014-03-09</td>\n",
       "      <td>2014.0</td>\n",
       "      <td>0.0</td>\n",
       "      <td>...</td>\n",
       "      <td>2.5</td>\n",
       "      <td>3.0</td>\n",
       "      <td>NaN</td>\n",
       "      <td>NaN</td>\n",
       "      <td>NaN</td>\n",
       "      <td>NaN</td>\n",
       "      <td>NaN</td>\n",
       "      <td>109</td>\n",
       "      <td>bad</td>\n",
       "      <td>0.0</td>\n",
       "    </tr>\n",
       "    <tr>\n",
       "      <th>9</th>\n",
       "      <td>__nLCwboY2RhiLd6hVSexQ</td>\n",
       "      <td>R6kBqGle9wWiHDMz6vnkZg</td>\n",
       "      <td>[blah, walking, establishment, really, impress...</td>\n",
       "      <td>0.0</td>\n",
       "      <td>JkuXXDySMl5fF0hwmLxNCA</td>\n",
       "      <td>0.0</td>\n",
       "      <td>2.0</td>\n",
       "      <td>2014-03-09</td>\n",
       "      <td>2014.0</td>\n",
       "      <td>1.0</td>\n",
       "      <td>...</td>\n",
       "      <td>3.0</td>\n",
       "      <td>3.0</td>\n",
       "      <td>NaN</td>\n",
       "      <td>NaN</td>\n",
       "      <td>NaN</td>\n",
       "      <td>NaN</td>\n",
       "      <td>NaN</td>\n",
       "      <td>136</td>\n",
       "      <td>bad</td>\n",
       "      <td>0.0</td>\n",
       "    </tr>\n",
       "    <tr>\n",
       "      <th>10</th>\n",
       "      <td>__nLCwboY2RhiLd6hVSexQ</td>\n",
       "      <td>ty4e5jUogHqrLGooicOIig</td>\n",
       "      <td>[buffets, one, favorite, dining, experiences, ...</td>\n",
       "      <td>0.0</td>\n",
       "      <td>vbcdf7dXxfc3uyOoi7ryyA</td>\n",
       "      <td>0.0</td>\n",
       "      <td>4.0</td>\n",
       "      <td>2014-07-07</td>\n",
       "      <td>2014.0</td>\n",
       "      <td>0.0</td>\n",
       "      <td>...</td>\n",
       "      <td>3.0</td>\n",
       "      <td>4.0</td>\n",
       "      <td>NaN</td>\n",
       "      <td>NaN</td>\n",
       "      <td>NaN</td>\n",
       "      <td>NaN</td>\n",
       "      <td>NaN</td>\n",
       "      <td>187</td>\n",
       "      <td>bad</td>\n",
       "      <td>0.0</td>\n",
       "    </tr>\n",
       "  </tbody>\n",
       "</table>\n",
       "<p>5 rows × 24 columns</p>\n",
       "</div>"
      ],
      "text/plain": [
       "                   user_id               review_id  \\\n",
       "0   __FtIsjOxPkqiYfQedYgTg  4Rs8MQBEzfXLrM8Srf5ZFw   \n",
       "5   __N7qbHbgF4xvqcTkiSrsQ  rZArgGAmPEdGIMVvbZEZAg   \n",
       "7   __nLCwboY2RhiLd6hVSexQ  AL_vCYvwJ5vm3QDx1vXBVw   \n",
       "9   __nLCwboY2RhiLd6hVSexQ  R6kBqGle9wWiHDMz6vnkZg   \n",
       "10  __nLCwboY2RhiLd6hVSexQ  ty4e5jUogHqrLGooicOIig   \n",
       "\n",
       "                                                 text  votes.cool  \\\n",
       "0   [good, back, home, type, best, service, smile,...         0.0   \n",
       "5   [green, catered, anniversary, party, recently,...         0.0   \n",
       "7   [rainforest, cafe, many, many, many, years, on...         0.0   \n",
       "9   [blah, walking, establishment, really, impress...         0.0   \n",
       "10  [buffets, one, favorite, dining, experiences, ...         0.0   \n",
       "\n",
       "               business_id  votes.funny  stars        date    YEAR  \\\n",
       "0   VkPzsY09S4zO0XqhA1mc6Q          0.0    4.0  2014-07-05  2014.0   \n",
       "5   c1yGkETheht_1vjda7G5sA          0.0    4.0  2014-03-22  2014.0   \n",
       "7   sxRI0je6hAR-MeBDxdyhug          0.0    3.0  2014-03-09  2014.0   \n",
       "9   JkuXXDySMl5fF0hwmLxNCA          0.0    2.0  2014-03-09  2014.0   \n",
       "10  vbcdf7dXxfc3uyOoi7ryyA          0.0    4.0  2014-07-07  2014.0   \n",
       "\n",
       "    votes.useful  ... stars1 Votestot  Unnamed: 16  Unnamed: 17  Unnamed: 18  \\\n",
       "0            0.0  ...    4.5      4.0          NaN          NaN          NaN   \n",
       "5            0.0  ...    4.5      4.0          NaN          NaN          NaN   \n",
       "7            0.0  ...    2.5      3.0          NaN          NaN          NaN   \n",
       "9            1.0  ...    3.0      3.0          NaN          NaN          NaN   \n",
       "10           0.0  ...    3.0      4.0          NaN          NaN          NaN   \n",
       "\n",
       "    Unnamed: 19  Unnamed: 20  textlen  rating  realrating  \n",
       "0           NaN          NaN       50    good         1.0  \n",
       "5           NaN          NaN      134    good         1.0  \n",
       "7           NaN          NaN      109     bad         0.0  \n",
       "9           NaN          NaN      136     bad         0.0  \n",
       "10          NaN          NaN      187     bad         0.0  \n",
       "\n",
       "[5 rows x 24 columns]"
      ]
     },
     "execution_count": 112,
     "metadata": {},
     "output_type": "execute_result"
    }
   ],
   "source": [
    "conditions = [\n",
    "    (reviewdata['stars1'] <=3),\n",
    "    (reviewdata['stars1'] >3) & (reviewdata['stars1'] <4.5),\n",
    "    (reviewdata['stars1'] >= 4.5)\n",
    "]\n",
    "\n",
    "values = ['bad', 'mediocre', 'good']\n",
    "\n",
    "dictrat={'bad':0,'good':1}\n",
    "\n",
    "reviewdata['rating']=np.select(conditions,values)\n",
    "reviewdata['realrating']=reviewdata.rating.map(dictrat)\n",
    "\n",
    "reviewdata=reviewdata[reviewdata['rating'].isin(['bad','good'])]\n",
    "\n",
    "reviewdata.rating.value_counts()\n",
    "reviewdata.head()"
   ]
  },
  {
   "cell_type": "code",
   "execution_count": 113,
   "metadata": {},
   "outputs": [],
   "source": [
    "X=reviewdata.text\n",
    "y=reviewdata.rating\n",
    "\n",
    "X_train, X_test, y_train, y_test = train_test_split(X,y, test_size=.25, random_state=41)\n",
    "\n",
    "tfidf=TfidfVectorizer(min_df=30,max_df=1000)\n",
    "\n",
    "X_traindf2=pd.DataFrame(X_train,columns=['text'])\n",
    "X_testdf2=pd.DataFrame(X_test,columns=['text'])\n",
    "\n",
    "X_trainvec2=tfidf.fit_transform(X_traindf2[\"text\"].apply(lambda x: ' '.join(x)))\n",
    "X_testvec2=tfidf.transform(X_testdf2[\"text\"].apply(lambda x: ' '.join(x)))"
   ]
  },
  {
   "cell_type": "markdown",
   "metadata": {},
   "source": [
    "As seen through the heavily improved recall scores within both the test data and training data, we can see evident model improvement with the use of the new condition set. While changing the conditions seemed to increase the overall model performance, additional steps can be implemented to make more clear designations and mitigate false readings."
   ]
  },
  {
   "cell_type": "code",
   "execution_count": 114,
   "metadata": {},
   "outputs": [
    {
     "data": {
      "text/plain": [
       "<sklearn.metrics._plot.confusion_matrix.ConfusionMatrixDisplay at 0x210e55c1820>"
      ]
     },
     "execution_count": 114,
     "metadata": {},
     "output_type": "execute_result"
    },
    {
     "data": {
      "image/png": "[encoded data removed]",
      "text/plain": [
       "<Figure size 432x288 with 2 Axes>"
      ]
     },
     "metadata": {
      "needs_background": "light"
     },
     "output_type": "display_data"
    }
   ],
   "source": [
    "baseline_model = MultinomialNB()\n",
    "\n",
    "baseline_model.fit(X_trainvec2,y_train)\n",
    "y_hattest=baseline_model.predict(X_testvec2)\n",
    "y_hattrain=baseline_model.predict(X_trainvec2)\n",
    "plot_confusion_matrix(baseline_model, X_testvec2, y_test,display_labels=['bad','good'])"
   ]
  },
  {
   "cell_type": "code",
   "execution_count": 115,
   "metadata": {},
   "outputs": [
    {
     "name": "stdout",
     "output_type": "stream",
     "text": [
      "Test Data Classification Report\n",
      "_________________________________\n",
      "              precision    recall  f1-score   support\n",
      "\n",
      "         bad       0.83      0.69      0.75      2763\n",
      "        good       0.82      0.91      0.86      4281\n",
      "\n",
      "    accuracy                           0.82      7044\n",
      "   macro avg       0.83      0.80      0.81      7044\n",
      "weighted avg       0.82      0.82      0.82      7044\n",
      "\n",
      "Training Data Classification Report\n",
      "_________________________________\n",
      "              precision    recall  f1-score   support\n",
      "\n",
      "         bad       0.85      0.69      0.76      8420\n",
      "        good       0.82      0.92      0.87     12709\n",
      "\n",
      "    accuracy                           0.83     21129\n",
      "   macro avg       0.83      0.81      0.81     21129\n",
      "weighted avg       0.83      0.83      0.82     21129\n",
      "\n"
     ]
    }
   ],
   "source": [
    "reporttest=classification_report(y_test, y_hattest)\n",
    "reporttrain=classification_report(y_train, y_hattrain)\n",
    "\n",
    "print('Test Data Classification Report')\n",
    "print('_________________________________')\n",
    "print(reporttest)\n",
    "print('Training Data Classification Report')\n",
    "print('_________________________________')\n",
    "print(reporttrain)"
   ]
  },
  {
   "cell_type": "markdown",
   "metadata": {},
   "source": [
    "### Model 3: TF-IDF Vectorizer + Lemmatizer"
   ]
  },
  {
   "cell_type": "markdown",
   "metadata": {},
   "source": [
    "As seen in the prior word count distribution across the Good/Bad split, it was observed that some words like “get” and “got” were considered as distinct words although semantically, they have the same meaning. In an effort to improve prior model performance, lemmatization will be performed in order to consolidate based on their root words.  Below, the part of speech (POS) is tagged to each token word, and the root words of each are found. Additionally, more common words amongst the designations are included in order to decrease similarity amongst the genre sets."
   ]
  },
  {
   "cell_type": "code",
   "execution_count": 116,
   "metadata": {},
   "outputs": [],
   "source": [
    "def get_wordnet_pos(treebank_tag):\n",
    "    '''\n",
    "    Translate nltk POS to wordnet tags\n",
    "    '''\n",
    "    if treebank_tag.startswith('J'):\n",
    "        return wordnet.ADJ\n",
    "    elif treebank_tag.startswith('V'):\n",
    "        return wordnet.VERB\n",
    "    elif treebank_tag.startswith('N'):\n",
    "        return wordnet.NOUN\n",
    "    elif treebank_tag.startswith('R'):\n",
    "        return wordnet.ADV\n",
    "    else:\n",
    "        return wordnet.NOUN\n",
    "    \n",
    "def doc_lemmatizer(doc):\n",
    "    doc=pos_tag(doc)\n",
    "    doc=[(word[0], get_wordnet_pos(word[1])) for word in doc]\n",
    "    lemmatizer=WordNetLemmatizer()\n",
    "    doc=[lemmatizer.lemmatize(word[0], word[1]) for word in doc]\n",
    "    return doc\n",
    "    \n",
    "\n",
    "reviewdata.text=[doc_lemmatizer(text) for text in reviewdata.text]"
   ]
  },
  {
   "cell_type": "markdown",
   "metadata": {},
   "source": [
    " Word frequencies are revisualized, each designation looking more unique. For the most part, the word frequency still looks relatively similar, but order of frequency is distinctly different between Good/Bad designations."
   ]
  },
  {
   "cell_type": "code",
   "execution_count": 117,
   "metadata": {},
   "outputs": [
    {
     "data": {
      "image/png": "[encoded data removed]",
      "text/plain": [
       "<Figure size 1080x1080 with 2 Axes>"
      ]
     },
     "metadata": {
      "needs_background": "light"
     },
     "output_type": "display_data"
    }
   ],
   "source": [
    "fig, axes = setup_two_subplots()\n",
    "\n",
    "plot_distribution_of_column_by_category(reviewdata, axes)\n",
    "fig.suptitle(\"Word Frequencies for All Tokens\", fontsize=24);"
   ]
  },
  {
   "cell_type": "code",
   "execution_count": 118,
   "metadata": {},
   "outputs": [],
   "source": [
    "X2=reviewdata.text\n",
    "y2=reviewdata.rating\n",
    "\n",
    "X_train, X_test, y_train, y_test = train_test_split(X2,y2, test_size=.25, random_state=41)\n",
    "\n",
    "tfidf=TfidfVectorizer(min_df=30,max_df=1000)\n",
    "\n",
    "X_traindf=pd.DataFrame(X_train,columns=['text'])\n",
    "X_testdf=pd.DataFrame(X_test,columns=['text'])\n",
    "\n",
    "X_trainvec=tfidf.fit_transform(X_traindf[\"text\"].apply(lambda x: ' '.join(x)))\n",
    "X_testvec=tfidf.transform(X_testdf[\"text\"].apply(lambda x: ' '.join(x)))"
   ]
  },
  {
   "cell_type": "markdown",
   "metadata": {},
   "source": [
    "As seen in the following classification report, overall performance does not seem to have improved seen from the slight uptick in false positives/negatives. This may just be chalked up to noise, however. "
   ]
  },
  {
   "cell_type": "code",
   "execution_count": 119,
   "metadata": {},
   "outputs": [
    {
     "data": {
      "text/plain": [
       "<sklearn.metrics._plot.confusion_matrix.ConfusionMatrixDisplay at 0x2112e4cadf0>"
      ]
     },
     "execution_count": 119,
     "metadata": {},
     "output_type": "execute_result"
    },
    {
     "data": {
      "image/png": "[encoded data removed]",
      "text/plain": [
       "<Figure size 432x288 with 2 Axes>"
      ]
     },
     "metadata": {
      "needs_background": "light"
     },
     "output_type": "display_data"
    }
   ],
   "source": [
    "baseline_model = MultinomialNB()\n",
    "\n",
    "baseline_model.fit(X_trainvec,y_train)\n",
    "y_hattest=baseline_model.predict(X_testvec)\n",
    "y_hattrain=baseline_model.predict(X_trainvec)\n",
    "plot_confusion_matrix(baseline_model, X_testvec, y_test,display_labels=['bad','good'])"
   ]
  },
  {
   "cell_type": "code",
   "execution_count": 120,
   "metadata": {},
   "outputs": [
    {
     "name": "stdout",
     "output_type": "stream",
     "text": [
      "Test Data Classification Report\n",
      "_________________________________\n",
      "              precision    recall  f1-score   support\n",
      "\n",
      "         bad       0.83      0.68      0.75      2763\n",
      "        good       0.82      0.91      0.86      4281\n",
      "\n",
      "    accuracy                           0.82      7044\n",
      "   macro avg       0.82      0.79      0.80      7044\n",
      "weighted avg       0.82      0.82      0.82      7044\n",
      "\n",
      "Training Data Classification Report\n",
      "_________________________________\n",
      "              precision    recall  f1-score   support\n",
      "\n",
      "         bad       0.85      0.69      0.76      8420\n",
      "        good       0.82      0.92      0.86     12709\n",
      "\n",
      "    accuracy                           0.83     21129\n",
      "   macro avg       0.83      0.80      0.81     21129\n",
      "weighted avg       0.83      0.83      0.82     21129\n",
      "\n"
     ]
    }
   ],
   "source": [
    "reporttest=classification_report(y_test, y_hattest)\n",
    "reporttrain=classification_report(y_train, y_hattrain)\n",
    "\n",
    "print('Test Data Classification Report')\n",
    "print('_________________________________')\n",
    "print(reporttest)\n",
    "print('Training Data Classification Report')\n",
    "print('_________________________________')\n",
    "print(reporttrain)"
   ]
  },
  {
   "cell_type": "markdown",
   "metadata": {},
   "source": [
    "### Model 4: Considering Bigrams/Trigrams"
   ]
  },
  {
   "cell_type": "markdown",
   "metadata": {},
   "source": [
    "When reading through the individual reviews, it appears that certain word sequences such as \"very good\" or \"not good\" were seen multiple times. The issue that arises when vectorizing using each word individually is that the context of where a given word appears can be vastly different. To mitigate this, the sequence of words will be acknowledged to inevitably improve performance, through the use of bigrams and trigrams within the vectorizer. The ngram_range parameter is used to identify all sequences of 1-3 words that appear within the dataset.  "
   ]
  },
  {
   "cell_type": "code",
   "execution_count": 121,
   "metadata": {},
   "outputs": [
    {
     "data": {
      "text/plain": [
       "<sklearn.metrics._plot.confusion_matrix.ConfusionMatrixDisplay at 0x210ae36a130>"
      ]
     },
     "execution_count": 121,
     "metadata": {},
     "output_type": "execute_result"
    },
    {
     "data": {
      "image/png": "[encoded data removed]",
      "text/plain": [
       "<Figure size 432x288 with 2 Axes>"
      ]
     },
     "metadata": {
      "needs_background": "light"
     },
     "output_type": "display_data"
    }
   ],
   "source": [
    "tfidf=TfidfVectorizer(min_df=30,max_df=1000, ngram_range=(1,3))\n",
    "\n",
    "X_traindf=pd.DataFrame(X_train,columns=['text'])\n",
    "X_testdf=pd.DataFrame(X_test,columns=['text'])\n",
    "\n",
    "X_trainvec=tfidf.fit_transform(X_traindf[\"text\"].apply(lambda x: ' '.join(x)))\n",
    "X_testvec=tfidf.transform(X_testdf[\"text\"].apply(lambda x: ' '.join(x)))\n",
    "\n",
    "baseline_model = MultinomialNB()\n",
    "\n",
    "baseline_model.fit(X_trainvec,y_train)\n",
    "y_hattest=baseline_model.predict(X_testvec)\n",
    "y_hattrain=baseline_model.predict(X_trainvec)\n",
    "plot_confusion_matrix(baseline_model, X_testvec, y_test,display_labels=['bad','good'])"
   ]
  },
  {
   "cell_type": "markdown",
   "metadata": {},
   "source": [
    "As seen from the output report, performance slightly improved at mitigating false positives, which is a good sign since  the majority of the data is comprised of good reviews anyways. It seems Recall and Precision for Bad reviews increased as well. Overall accuracy went up from 82 to 83 in testing data and 83 to 84 in training data. This shows that the consideration of bigrams/trigrams made a positive improvement on model performance."
   ]
  },
  {
   "cell_type": "code",
   "execution_count": 122,
   "metadata": {
    "scrolled": true
   },
   "outputs": [
    {
     "data": {
      "text/plain": [
       "<sklearn.metrics._plot.confusion_matrix.ConfusionMatrixDisplay at 0x210e5e1d4c0>"
      ]
     },
     "execution_count": 122,
     "metadata": {},
     "output_type": "execute_result"
    },
    {
     "data": {
      "image/png": "[encoded data removed]",
      "text/plain": [
       "<Figure size 432x288 with 2 Axes>"
      ]
     },
     "metadata": {
      "needs_background": "light"
     },
     "output_type": "display_data"
    }
   ],
   "source": [
    "baseline_model = MultinomialNB()\n",
    "\n",
    "baseline_model.fit(X_trainvec,y_train)\n",
    "y_hattest=baseline_model.predict(X_testvec)\n",
    "y_hattrain=baseline_model.predict(X_trainvec)\n",
    "plot_confusion_matrix(baseline_model, X_testvec, y_test,display_labels=['bad','good'])"
   ]
  },
  {
   "cell_type": "code",
   "execution_count": 123,
   "metadata": {},
   "outputs": [
    {
     "name": "stdout",
     "output_type": "stream",
     "text": [
      "Test Data Classification Report\n",
      "_________________________________\n",
      "              precision    recall  f1-score   support\n",
      "\n",
      "         bad       0.84      0.71      0.77      2763\n",
      "        good       0.83      0.91      0.87      4281\n",
      "\n",
      "    accuracy                           0.83      7044\n",
      "   macro avg       0.83      0.81      0.82      7044\n",
      "weighted avg       0.83      0.83      0.83      7044\n",
      "\n",
      "Training Data Classification Report\n",
      "_________________________________\n",
      "              precision    recall  f1-score   support\n",
      "\n",
      "         bad       0.86      0.73      0.79      8420\n",
      "        good       0.84      0.92      0.88     12709\n",
      "\n",
      "    accuracy                           0.84     21129\n",
      "   macro avg       0.85      0.82      0.83     21129\n",
      "weighted avg       0.85      0.84      0.84     21129\n",
      "\n"
     ]
    }
   ],
   "source": [
    "reporttest=classification_report(y_test, y_hattest)\n",
    "reporttrain=classification_report(y_train, y_hattrain)\n",
    "\n",
    "print('Test Data Classification Report')\n",
    "print('_________________________________')\n",
    "print(reporttest)\n",
    "print('Training Data Classification Report')\n",
    "print('_________________________________')\n",
    "print(reporttrain)"
   ]
  },
  {
   "cell_type": "markdown",
   "metadata": {},
   "source": [
    "The model is in an overall better state/performance level when compared to the original output after filtering on relevant reviews, lemmatizing, and implementing bigrams/trigrams. Below, a list of the most impactful words within the bad/good review sets can be seen in the output below."
   ]
  },
  {
   "cell_type": "code",
   "execution_count": 124,
   "metadata": {},
   "outputs": [
    {
     "name": "stdout",
     "output_type": "stream",
     "text": [
      "Positive Reviews: Words of Highest Importance\n",
      "---------------------------------------------\n",
      "['adobada' 'bouche' 'owner chef' 'masala' 'wine gravy' 'pomo' 'arepas'\n",
      " 'combo pan' 'tikka' 'oggie' 'omakase' 'combo pan roast' 'postino'\n",
      " 'jjanga' 'lobster mash potato' 'lobster mash' 'limoncello' 'huli'\n",
      " 'coconut bark' 'huli chicken' 'tikka masala' 'huli huli' 'detroit'\n",
      " 'huli huli chicken' 'pan roast' 'tonkatsu' 'cibo' 'red wine gravy' 'dw'\n",
      " 'giada' 'arepa' 'komex' 'staff amaze' 'butter cake' 'raku' 'rollin smoke'\n",
      " 'snoh' 'skinnyfats' 'rollin' 'goodwich' 'soho' 'chicken skin' 'robuchon'\n",
      " 'ike' 'juan' 'michigan' 'east valley' 'kalua' 'kalua pig' 'al pastor'\n",
      " 'yuzu' 'rival' 'mastros' 'best taco' 'pb' 'oyster bar' 'bone ribeye'\n",
      " 'best thai' 'coney' 'sweet savory' 'black cod' 'delicate' 'mr mama'\n",
      " 'banana nut' 'tataki' 'carne asada fry' 'ingredient fresh' 'albacore'\n",
      " 'ayce sushi' 'cornish' 'pizzeria' 'cornish pasty' 'cauliflower'\n",
      " 'taste menu' 'cream corn' 'style pizza' 'empanada' 'sorbet'\n",
      " 'bread butter' 'el gordo' 'take first' 'taco el' 'taco el gordo'\n",
      " 'octopus' 'family run' 'katsu' 'bark' 'owner come' 'british'\n",
      " 'healthy side' 'chicken katsu' 'sf' 'shawarma' 'mastro' 'sandwich ever'\n",
      " 'restaurant town' 'prix' 'place real' 'tzatziki' 'spiciness']\n",
      "---------------------------------------------\n",
      "---------------------------------------------\n",
      "Negative Reviews: Words of Highest Importance\n",
      "---------------------------------------------\n",
      "['resort fee' 'frozen hot' 'serendipity' 'golden corral' 'dance floor'\n",
      " 'frozen hot chocolate' 'venetian' 'bull' 'hooter' 'dim sum' 'linq' 'mimi'\n",
      " 'corral' 'sport bar' 'sugar factory' 'speak manager' 'waste time money'\n",
      " 'rudely' 'service terrible' 'beer cold' 'service lack' 'hot chocolate'\n",
      " 'tvs' 'waiter take' 'go downhill' 'gratuity' 'disaster' 'drink special'\n",
      " 'front desk' 'trap' 'crab legs' 'heat lamp' 'ugh' 'save money'\n",
      " 'olive garden' 'breakfast buffet' 'bouncer' 'conference' 'downhill'\n",
      " 'watch game' 'full price' 'avoid place' 'tequila' 'service bad'\n",
      " 'pay extra' 'take forever get' 'get refill' 'bring check'\n",
      " 'service horrible' 'monte carlo' 'dj' 'ask manager' 'good either'\n",
      " 'stayed' 'horrible experience' 'cotton' 'cotton candy' 'wing good'\n",
      " 'least minute' 'terribly' 'zero star' 'voucher' 'seat table' 'drinks'\n",
      " 'filthy' 'want drink' 'filipino' 'go bar' 'service okay' 'straw' 'mein'\n",
      " 'waste money' 'good minute' 'service poor' 'frustrate'\n",
      " 'go somewhere else' 'shower' 'draft beer' 'give menu' 'run around'\n",
      " 'say oh' 'chinese restaurant' 'seem care' 'desk' 'good server' 'blonde'\n",
      " 'bring drink' 'get bill' 'service suck' 'broken' 'say sorry' 'waiter say'\n",
      " 'subpar' 'bug' 'hospital' 'drink take' 'watch sport' 'actually really'\n",
      " 'grace' 'worse']\n"
     ]
    }
   ],
   "source": [
    "pos=baseline_model.feature_log_prob_[0,:].argsort()[::1]\n",
    "neg=baseline_model.feature_log_prob_[1,:].argsort()[::1]\n",
    "\n",
    "print(\"Positive Reviews: Words of Highest Importance\")\n",
    "print(\"---------------------------------------------\")\n",
    "print(np.take(tfidf.get_feature_names(),pos[:100]))\n",
    "print(\"---------------------------------------------\")\n",
    "print(\"---------------------------------------------\")\n",
    "print(\"Negative Reviews: Words of Highest Importance\")\n",
    "print(\"---------------------------------------------\")\n",
    "print(np.take(tfidf.get_feature_names(),neg[:100]))"
   ]
  },
  {
   "cell_type": "markdown",
   "metadata": {},
   "source": [
    "#  Classifier Results Evaluation"
   ]
  },
  {
   "cell_type": "markdown",
   "metadata": {},
   "source": [
    "When considering a matter as sensitive as the restaurant industry, the distribution of words chosen across the breadth of different reviews have a large impact on how a restaurant is perceived and recognized by cultures and communities. The final model created, using a Multinomial Naive Bayes classifier with a TF-IDF vectorizer, was able to differentiate good/bad reviews with an accuracy of 83% for test data and 84% for training data. \n",
    "\n",
    "A classification report and confusion matrix of the final classifier model iteration can be seen below across the test/train datasets."
   ]
  },
  {
   "cell_type": "code",
   "execution_count": 125,
   "metadata": {},
   "outputs": [
    {
     "name": "stdout",
     "output_type": "stream",
     "text": [
      "Test Data Classification Report\n",
      "_________________________________\n",
      "              precision    recall  f1-score   support\n",
      "\n",
      "         bad       0.84      0.71      0.77      2763\n",
      "        good       0.83      0.91      0.87      4281\n",
      "\n",
      "    accuracy                           0.83      7044\n",
      "   macro avg       0.83      0.81      0.82      7044\n",
      "weighted avg       0.83      0.83      0.83      7044\n",
      "\n",
      "Training Data Classification Report\n",
      "_________________________________\n",
      "              precision    recall  f1-score   support\n",
      "\n",
      "         bad       0.86      0.73      0.79      8420\n",
      "        good       0.84      0.92      0.88     12709\n",
      "\n",
      "    accuracy                           0.84     21129\n",
      "   macro avg       0.85      0.82      0.83     21129\n",
      "weighted avg       0.85      0.84      0.84     21129\n",
      "\n"
     ]
    }
   ],
   "source": [
    "print('Test Data Classification Report')\n",
    "print('_________________________________')\n",
    "print(reporttest)\n",
    "print('Training Data Classification Report')\n",
    "print('_________________________________')\n",
    "print(reporttrain)"
   ]
  },
  {
   "cell_type": "code",
   "execution_count": 126,
   "metadata": {},
   "outputs": [
    {
     "data": {
      "text/plain": [
       "<sklearn.metrics._plot.confusion_matrix.ConfusionMatrixDisplay at 0x210ae36c370>"
      ]
     },
     "execution_count": 126,
     "metadata": {},
     "output_type": "execute_result"
    },
    {
     "data": {
      "image/png": "[encoded data removed]",
      "text/plain": [
       "<Figure size 432x288 with 2 Axes>"
      ]
     },
     "metadata": {
      "needs_background": "light"
     },
     "output_type": "display_data"
    }
   ],
   "source": [
    "plot_confusion_matrix(baseline_model, X_testvec, y_test,display_labels=['bad','good'])"
   ]
  },
  {
   "cell_type": "markdown",
   "metadata": {},
   "source": [
    "The model performance is relatively strong, when considering the overall imbalance between good and bad reviews. This imbalance is to be expected, however, as seen through the previous plotted distributions, more people tend to leave relatively positive reviews for restaurants. In an ideal scenario, there would be an equal distrbution of good/bad restaurant reviews, but people may not want to leave bad reviews often, potentially out of fear of ruining someone's livelihood.\n",
    "\n",
    "\n",
    "Several of the identified words/phrases below seemed to highlight features and experiences regarding the restaurants in the dataset, both good and bad. The themes around the experience-oriented phrases revolve around money spent or bad experiences from attending staff (e.g. speaking to managers, hospitality, sub-par service, saving money, taking forever, horrible service). It seems as if these issues, when apparent from the customer end, may even be reflected through the experience with the food. Inefficiencies with any restaurant or business are hard to ignore, and they translate down to the inevitable service a customer gets."
   ]
  },
  {
   "cell_type": "code",
   "execution_count": 127,
   "metadata": {},
   "outputs": [
    {
     "name": "stdout",
     "output_type": "stream",
     "text": [
      "Positive Reviews: Words of Highest Importance\n",
      "---------------------------------------------\n",
      "['adobada' 'bouche' 'owner chef' 'masala' 'wine gravy' 'pomo' 'arepas'\n",
      " 'combo pan' 'tikka' 'oggie' 'omakase' 'combo pan roast' 'postino'\n",
      " 'jjanga' 'lobster mash potato' 'lobster mash' 'limoncello' 'huli'\n",
      " 'coconut bark' 'huli chicken' 'tikka masala' 'huli huli' 'detroit'\n",
      " 'huli huli chicken' 'pan roast' 'tonkatsu' 'cibo' 'red wine gravy' 'dw'\n",
      " 'giada' 'arepa' 'komex' 'staff amaze' 'butter cake' 'raku' 'rollin smoke'\n",
      " 'snoh' 'skinnyfats' 'rollin' 'goodwich' 'soho' 'chicken skin' 'robuchon'\n",
      " 'ike' 'juan' 'michigan' 'east valley' 'kalua' 'kalua pig' 'al pastor'\n",
      " 'yuzu' 'rival' 'mastros' 'best taco' 'pb' 'oyster bar' 'bone ribeye'\n",
      " 'best thai' 'coney' 'sweet savory' 'black cod' 'delicate' 'mr mama'\n",
      " 'banana nut' 'tataki' 'carne asada fry' 'ingredient fresh' 'albacore'\n",
      " 'ayce sushi' 'cornish' 'pizzeria' 'cornish pasty' 'cauliflower'\n",
      " 'taste menu' 'cream corn' 'style pizza' 'empanada' 'sorbet'\n",
      " 'bread butter' 'el gordo' 'take first' 'taco el' 'taco el gordo'\n",
      " 'octopus' 'family run' 'katsu' 'bark' 'owner come' 'british'\n",
      " 'healthy side' 'chicken katsu' 'sf' 'shawarma' 'mastro' 'sandwich ever'\n",
      " 'restaurant town' 'prix' 'place real' 'tzatziki' 'spiciness']\n",
      "---------------------------------------------\n",
      "---------------------------------------------\n",
      "Negative Reviews: Words of Highest Importance\n",
      "---------------------------------------------\n",
      "['resort fee' 'frozen hot' 'serendipity' 'golden corral' 'dance floor'\n",
      " 'frozen hot chocolate' 'venetian' 'bull' 'hooter' 'dim sum' 'linq' 'mimi'\n",
      " 'corral' 'sport bar' 'sugar factory' 'speak manager' 'waste time money'\n",
      " 'rudely' 'service terrible' 'beer cold' 'service lack' 'hot chocolate'\n",
      " 'tvs' 'waiter take' 'go downhill' 'gratuity' 'disaster' 'drink special'\n",
      " 'front desk' 'trap' 'crab legs' 'heat lamp' 'ugh' 'save money'\n",
      " 'olive garden' 'breakfast buffet' 'bouncer' 'conference' 'downhill'\n",
      " 'watch game' 'full price' 'avoid place' 'tequila' 'service bad'\n",
      " 'pay extra' 'take forever get' 'get refill' 'bring check'\n",
      " 'service horrible' 'monte carlo' 'dj' 'ask manager' 'good either'\n",
      " 'stayed' 'horrible experience' 'cotton' 'cotton candy' 'wing good'\n",
      " 'least minute' 'terribly' 'zero star' 'voucher' 'seat table' 'drinks'\n",
      " 'filthy' 'want drink' 'filipino' 'go bar' 'service okay' 'straw' 'mein'\n",
      " 'waste money' 'good minute' 'service poor' 'frustrate'\n",
      " 'go somewhere else' 'shower' 'draft beer' 'give menu' 'run around'\n",
      " 'say oh' 'chinese restaurant' 'seem care' 'desk' 'good server' 'blonde'\n",
      " 'bring drink' 'get bill' 'service suck' 'broken' 'say sorry' 'waiter say'\n",
      " 'subpar' 'bug' 'hospital' 'drink take' 'watch sport' 'actually really'\n",
      " 'grace' 'worse']\n"
     ]
    }
   ],
   "source": [
    "print(\"Positive Reviews: Words of Highest Importance\")\n",
    "print(\"---------------------------------------------\")\n",
    "print(np.take(tfidf.get_feature_names(),pos[:100]))\n",
    "print(\"---------------------------------------------\")\n",
    "print(\"---------------------------------------------\")\n",
    "print(\"Negative Reviews: Words of Highest Importance\")\n",
    "print(\"---------------------------------------------\")\n",
    "print(np.take(tfidf.get_feature_names(),neg[:100]))"
   ]
  },
  {
   "cell_type": "markdown",
   "metadata": {},
   "source": [
    "From the above excerpts, the following aspects of improvement were identified, supported by example words/phrases for each aspect. The common thread amongst positive reviews revolves around food quality and overall experience. The common thread amongst negative reviews revolves around bad experiences and interactions with front-of-house staff, e.g. waiters. That being said, customers may be willing to overlook bad service in some instances if they receive great quality food.\n",
    "\n",
    "#### Food Quality\n",
    "Positive reviews - words of highest importance: 'best thai','omakase','ingredient fresh';\n",
    "Negative reviews - words of highest importance: 'filthy','subpar','ugh','bug','heat lamp'\n",
    "\n",
    "As seen through the majority of important words identified within positive reviews, descriptors of the dishes eaten take prevalence throughout the top 50 ranking. The negative review words primarily refer to the overall experience being disappointing, but words like 'ugh' are symbolic of disgust that diners have with their meals. Food kept warm under a heat lamp, as seen in several buffets, is known to be old/dried out.\n",
    "\n",
    "\n",
    "#### Service Quality\n",
    "Positive reviews - words of highest importance:'owner chef','staff amaze','family run';\n",
    "Negative reviews - words of highest importance: 'service lack', service terrible','seem (to) care'\n",
    "\n",
    "While the positive reviews seem to praise amazing staff, the negative reviews mention service lacking within multiple phrases. Little regard/care for the overall customer experience seems to be a common theme for negative reviews.\n",
    "\n",
    "#### Value Perceived by Customers\n",
    "Positive reviews - words of highest importance: 'ayce sushi';\n",
    "Negative reviews - words of highest importance: 'waste money','save money','waste time money','pay extra'\n",
    "\n",
    "Customers reporting feelings of wasting time/money by dining at a restaurant is a common theme with negative reviews, causing them to be detractors and leaving negative reviews. They may not feel like the dish they paid for was worth its listed cost. \n",
    "\n",
    "\n",
    "#### Time to Receive Food\n",
    "Positive reviews - words of highest importance: 'take first';\n",
    "Negative reviews - words of highest importance: 'good minute','get bill','take forever get','bring check','waiter take'\n",
    "\n",
    "Through the negative reviews, it is heavily noticable when restaurants drop the ball on timeliness and pacing of a meal. Diners who have to wait longer for service are inherently more hungry, impatient, and cranky, causing them to leave cautionary reviews."
   ]
  },
  {
   "cell_type": "markdown",
   "metadata": {},
   "source": [
    "# Recommendation System"
   ]
  },
  {
   "cell_type": "markdown",
   "metadata": {},
   "source": [
    "To supplement the NLP analysis, a follow up component to the analysis is the creation of a recommendation system based on other users' reviews. While knowing key points of improvement proves to be a good solution for restaurants, a recommendation system is a client facing solution that also involves user input. These recommendations, supplemented by the tendencies found in the NLP analysis, provides a holistic, well-informed method of gauging restaurant value/worth. "
   ]
  },
  {
   "cell_type": "code",
   "execution_count": 128,
   "metadata": {},
   "outputs": [],
   "source": [
    "from surprise import Reader, Dataset\n",
    "from surprise.model_selection import cross_validate\n",
    "from surprise.prediction_algorithms import SVD\n",
    "from surprise.prediction_algorithms import KNNWithMeans, KNNBasic, KNNBaseline\n",
    "from surprise.model_selection import GridSearchCV"
   ]
  },
  {
   "cell_type": "markdown",
   "metadata": {},
   "source": [
    "The surprise package is imported above, and is used to read in the relevant fields from the review dataset. The surprise package incorporates a data type that is particularly good when it comes to building recommendation systems that are optimized for computational efficiency. \n",
    "\n",
    "Below, it is seen that there are far more users than there are businesses. That being said, user-user comparison will likely be a more efficient/successful route for this recommender system, which compares similar users to similar users. "
   ]
  },
  {
   "cell_type": "code",
   "execution_count": 129,
   "metadata": {},
   "outputs": [
    {
     "name": "stdout",
     "output_type": "stream",
     "text": [
      "Number of users:  20426 \n",
      "\n",
      "Number of businesses:  931\n"
     ]
    }
   ],
   "source": [
    "recdata=reviewdata[['user_id','business_id','name','categories','stars1']]\n",
    "recdata.head()\n",
    "recdata=recdata[['user_id','business_id','stars1']]\n",
    "\n",
    "# read in values as Surprise dataset \n",
    "reader=Reader()\n",
    "recdatarec=Dataset.load_from_df(recdata,reader)\n",
    "\n",
    "recdataset = recdatarec.build_full_trainset()\n",
    "print('Number of users: ', recdataset.n_users, '\\n')\n",
    "print('Number of businesses: ', recdataset.n_items)"
   ]
  },
  {
   "cell_type": "markdown",
   "metadata": {},
   "source": [
    "Single Value Decomposition was used to generate a model that outputs user recommendations. Single Value Decomposition (SVD) is used to reduce a matrix into several component matrices, while revealing interesting tendencies about the original matrix. SVD involves the creation of an optimization problem; minimization of the prediction error margin is measured through the root mean squared error (RMSE). A lower RMSE is indicative of improved performance and vice versa.  \n",
    "\n",
    "Grid search is used on the SVD model in order to view the lowest RMSE scores with the tested parameters. n_factors is one of the factors that refers to the number of factors that the matrix will be considered when making predictions. reg_all refers to the regularization term for all parameters. \n",
    "\n",
    "Below, the RMSE for the ideal model is only .208 for the relevant readers and prodictions. this is relatiely strong, because it measn our model is only off by a fraction of a star for its generated predictions. That being said, it is safe to assume that the system will be successfful in assigning predictions to the user. "
   ]
  },
  {
   "cell_type": "code",
   "execution_count": 130,
   "metadata": {},
   "outputs": [
    {
     "name": "stdout",
     "output_type": "stream",
     "text": [
      "{'rmse': 0.20640138044640982, 'mae': 0.12250037129784094}\n",
      "{'rmse': {'n_factors': 5, 'reg_all': 0.01}, 'mae': {'n_factors': 5, 'reg_all': 0.01}}\n"
     ]
    },
    {
     "data": {
      "text/plain": [
       "<surprise.prediction_algorithms.matrix_factorization.SVD at 0x21096482190>"
      ]
     },
     "execution_count": 130,
     "metadata": {},
     "output_type": "execute_result"
    }
   ],
   "source": [
    "params = {'n_factors': [5,10,15,20,100],\n",
    "         'reg_all': [.01, .015, 0.02]}\n",
    "g_s_svd = GridSearchCV(SVD,param_grid=params,n_jobs=-1)\n",
    "g_s_svd.fit(recdatarec)\n",
    "\n",
    "print(g_s_svd.best_score)\n",
    "print(g_s_svd.best_params)\n",
    "\n",
    "svd = SVD(n_factors=5, reg_all=0.01)\n",
    "svd.fit(recdataset)"
   ]
  },
  {
   "cell_type": "markdown",
   "metadata": {},
   "source": [
    "Below, the following programs are defined, prompting the user to input ratings for a random selection of restaurants for respective chosen category. if the user has not visited the restaurant, n should be inputted, and rows are sampled until a max of 5 records for the given user ID are selected."
   ]
  },
  {
   "cell_type": "code",
   "execution_count": 131,
   "metadata": {},
   "outputs": [
    {
     "name": "stderr",
     "output_type": "stream",
     "text": [
      "C:\\Users\\noahi\\anaconda3\\envs\\learn-env\\lib\\site-packages\\IPython\\core\\interactiveshell.py:3145: DtypeWarning: Columns (0,1,2,4,7,10,11) have mixed types.Specify dtype option on import or set low_memory=False.\n",
      "  has_raised = await self.run_ast_nodes(code_ast.body, cell_name,\n"
     ]
    }
   ],
   "source": [
    "restreviews=pd.read_csv('yelpcomgen.csv',header=0,encoding='latin-1')\n",
    "restreviews = restreviews[restreviews[\"categories\"].notna()]\n",
    "cleanedreviews=restreviews[['user_id','business_id','name','categories','stars1']]\n",
    "\n",
    "def yelprater(recs,num,user,cat=None):\n",
    "    userID = user\n",
    "    rating_list = []\n",
    "    recs=recs[['business_id','name','categories']]\n",
    "    while num > 0:\n",
    "        if cat:\n",
    "            rest = recs[recs['categories'].str.contains(cat)].sample(1)\n",
    "        else:\n",
    "            rest = recs.sample(1)\n",
    "        print(rest)\n",
    "        rating = input('How do you rate this restaurant/business on a scale of 1-5, press n if you have not been :\\n')\n",
    "        if rating == 'n':\n",
    "            continue\n",
    "        else:\n",
    "            onerest = {'user_id':userID,'business_id':rest['business_id'].values[0],'stars1':rating}\n",
    "            rating_list.append(onerest) \n",
    "            num -= 1    \n",
    "    return rating_list  "
   ]
  },
  {
   "cell_type": "markdown",
   "metadata": {},
   "source": [
    "The recommendations are then appended to the overall review table and the SVD model is run with the additional data. finally, a function is defined, which outputs a top 10 ranked set of recommended restaurants sorted by the predicted user rating. "
   ]
  },
  {
   "cell_type": "code",
   "execution_count": 132,
   "metadata": {},
   "outputs": [],
   "source": [
    "def filternamerecs(recs,num,user,cat=None):\n",
    "    ratelist=yelprater(recs,num,user,cat)\n",
    "    filrecs=recs[['business_id','categories','name']]\n",
    "    filrecs=filrecs[filrecs['categories'].str.contains(cat)]\n",
    "    filrecs.set_index('business_id',inplace=True)\n",
    "    \n",
    "    restapp=recs.append(ratelist,ignore_index=True)\n",
    "    restapp=restapp.drop(columns=['categories','name'])\n",
    "    restdata=Dataset.load_from_df(restapp,reader)\n",
    "    svd.fit(restdata.build_full_trainset())\n",
    "    list_of_restaurants = []\n",
    "    for r_id in restapp['business_id'].unique():\n",
    "        list_of_restaurants.append((r_id,svd.predict(10,r_id)[3]))\n",
    "    \n",
    "    rankedrest=pd.DataFrame(list_of_restaurants).drop_duplicates()\n",
    "    rankedrest.columns=['business_id','recrating']\n",
    "    rankedrest.set_index('business_id',inplace=True)\n",
    "    \n",
    "    joined=pd.concat([filrecs,rankedrest],join='inner',axis=1).sort_values(by=['recrating'],ascending=False).drop_duplicates()\n",
    "    return joined.head(10)"
   ]
  },
  {
   "cell_type": "markdown",
   "metadata": {},
   "source": [
    "Below, the ranked recommendations of restaurants are generated for the user ID and category inputs"
   ]
  },
  {
   "cell_type": "code",
   "execution_count": 133,
   "metadata": {},
   "outputs": [
    {
     "name": "stdout",
     "output_type": "stream",
     "text": [
      "                  business_id name  \\\n",
      "63915  odqOaG3-o09P20xCf5DNqQ  Bei   \n",
      "\n",
      "                                              categories  \n",
      "63915  Bars;Sushi Bars;Asian Fusion;Cocktail Bars;Nig...  \n",
      "How do you rate this restaurant/business on a scale of 1-5, press n if you have not been :\n",
      "3\n",
      "                 business_id      name                       categories\n",
      "3390  Bp93pemXBdiEkZqdK-vtgw  Sushi 21  Sushi Bars;Japanese;Restaurants\n",
      "How do you rate this restaurant/business on a scale of 1-5, press n if you have not been :\n",
      "2\n",
      "                  business_id                    name  \\\n",
      "69141  SPBZxmt8_nT30rNVnKHYKA  Akaihana Sushi & Grill   \n",
      "\n",
      "                            categories  \n",
      "69141  Sushi Bars;Japanese;Restaurants  \n",
      "How do you rate this restaurant/business on a scale of 1-5, press n if you have not been :\n",
      "3\n",
      "                 business_id               name  \\\n",
      "6539  V3ruBXjLGWniPNPQOzRhiw  Makino Restaurant   \n",
      "\n",
      "                           categories  \n",
      "6539  Sushi Bars;Japanese;Restaurants  \n",
      "How do you rate this restaurant/business on a scale of 1-5, press n if you have not been :\n",
      "2\n",
      "                  business_id                    name  \\\n",
      "33935  c8Xamwyv5Tyi2VjjyQcwaw  Island Sushi and Grill   \n",
      "\n",
      "                            categories  \n",
      "33935  Sushi Bars;Hawaiian;Restaurants  \n",
      "How do you rate this restaurant/business on a scale of 1-5, press n if you have not been :\n",
      "3\n"
     ]
    },
    {
     "data": {
      "text/html": [
       "<div>\n",
       "<style scoped>\n",
       "    .dataframe tbody tr th:only-of-type {\n",
       "        vertical-align: middle;\n",
       "    }\n",
       "\n",
       "    .dataframe tbody tr th {\n",
       "        vertical-align: top;\n",
       "    }\n",
       "\n",
       "    .dataframe thead th {\n",
       "        text-align: right;\n",
       "    }\n",
       "</style>\n",
       "<table border=\"1\" class=\"dataframe\">\n",
       "  <thead>\n",
       "    <tr style=\"text-align: right;\">\n",
       "      <th></th>\n",
       "      <th>categories</th>\n",
       "      <th>name</th>\n",
       "      <th>recrating</th>\n",
       "    </tr>\n",
       "    <tr>\n",
       "      <th>business_id</th>\n",
       "      <th></th>\n",
       "      <th></th>\n",
       "      <th></th>\n",
       "    </tr>\n",
       "  </thead>\n",
       "  <tbody>\n",
       "    <tr>\n",
       "      <th>Pgp3gbOQaJIdyjqC9AOz6g</th>\n",
       "      <td>Sushi Bars;Restaurants</td>\n",
       "      <td>I Love Sushi</td>\n",
       "      <td>4.496233</td>\n",
       "    </tr>\n",
       "    <tr>\n",
       "      <th>HpaYCM_NCauI72LLXxC6SA</th>\n",
       "      <td>Tapas/Small Plates;Sushi Bars;Japanese;Restaur...</td>\n",
       "      <td>Yonaka Modern Japanese</td>\n",
       "      <td>4.493834</td>\n",
       "    </tr>\n",
       "    <tr>\n",
       "      <th>6X9iyuM2XdoCGT4q9qv5cA</th>\n",
       "      <td>Sushi Bars;Japanese;Restaurants</td>\n",
       "      <td>JJANGA Japanese Restaurant</td>\n",
       "      <td>4.492686</td>\n",
       "    </tr>\n",
       "    <tr>\n",
       "      <th>OwBPjUz2o0J5K3DzcHkBtg</th>\n",
       "      <td>Sushi Bars;Japanese;Restaurants</td>\n",
       "      <td>Soho Japanese Restaurant</td>\n",
       "      <td>4.491173</td>\n",
       "    </tr>\n",
       "    <tr>\n",
       "      <th>sNBquLTaV3IbUWkzSUlTpw</th>\n",
       "      <td>Sushi Bars;Japanese;Restaurants</td>\n",
       "      <td>Sakana</td>\n",
       "      <td>4.489186</td>\n",
       "    </tr>\n",
       "    <tr>\n",
       "      <th>QrRNFiSXmCo4pzVLAhA_bw</th>\n",
       "      <td>Steakhouses;Sushi Bars;Japanese;Restaurants</td>\n",
       "      <td>Kanji Steak &amp; Sushi</td>\n",
       "      <td>4.487087</td>\n",
       "    </tr>\n",
       "    <tr>\n",
       "      <th>bpGFetX8muk0GxAT3Oea3Q</th>\n",
       "      <td>Sushi Bars;Japanese;Restaurants</td>\n",
       "      <td>Yummy Grill &amp; Sushi</td>\n",
       "      <td>4.485615</td>\n",
       "    </tr>\n",
       "    <tr>\n",
       "      <th>u6EUXOSFnjxvzLll4D21bA</th>\n",
       "      <td>Sushi Bars;Japanese;Restaurants</td>\n",
       "      <td>Harumi Sushi</td>\n",
       "      <td>4.485328</td>\n",
       "    </tr>\n",
       "    <tr>\n",
       "      <th>l5FvoKE2-k6JpGVuhH9YVA</th>\n",
       "      <td>Sushi Bars;Japanese;Restaurants</td>\n",
       "      <td>Sushi Catcher</td>\n",
       "      <td>4.480872</td>\n",
       "    </tr>\n",
       "    <tr>\n",
       "      <th>AYbUb5UcAngroJ6uJG7tLQ</th>\n",
       "      <td>Sushi Bars;Japanese;Restaurants</td>\n",
       "      <td>Kabuto</td>\n",
       "      <td>4.479405</td>\n",
       "    </tr>\n",
       "  </tbody>\n",
       "</table>\n",
       "</div>"
      ],
      "text/plain": [
       "                                                               categories  \\\n",
       "business_id                                                                 \n",
       "Pgp3gbOQaJIdyjqC9AOz6g                             Sushi Bars;Restaurants   \n",
       "HpaYCM_NCauI72LLXxC6SA  Tapas/Small Plates;Sushi Bars;Japanese;Restaur...   \n",
       "6X9iyuM2XdoCGT4q9qv5cA                    Sushi Bars;Japanese;Restaurants   \n",
       "OwBPjUz2o0J5K3DzcHkBtg                    Sushi Bars;Japanese;Restaurants   \n",
       "sNBquLTaV3IbUWkzSUlTpw                    Sushi Bars;Japanese;Restaurants   \n",
       "QrRNFiSXmCo4pzVLAhA_bw        Steakhouses;Sushi Bars;Japanese;Restaurants   \n",
       "bpGFetX8muk0GxAT3Oea3Q                    Sushi Bars;Japanese;Restaurants   \n",
       "u6EUXOSFnjxvzLll4D21bA                    Sushi Bars;Japanese;Restaurants   \n",
       "l5FvoKE2-k6JpGVuhH9YVA                    Sushi Bars;Japanese;Restaurants   \n",
       "AYbUb5UcAngroJ6uJG7tLQ                    Sushi Bars;Japanese;Restaurants   \n",
       "\n",
       "                                              name  recrating  \n",
       "business_id                                                    \n",
       "Pgp3gbOQaJIdyjqC9AOz6g                I Love Sushi   4.496233  \n",
       "HpaYCM_NCauI72LLXxC6SA      Yonaka Modern Japanese   4.493834  \n",
       "6X9iyuM2XdoCGT4q9qv5cA  JJANGA Japanese Restaurant   4.492686  \n",
       "OwBPjUz2o0J5K3DzcHkBtg    Soho Japanese Restaurant   4.491173  \n",
       "sNBquLTaV3IbUWkzSUlTpw                      Sakana   4.489186  \n",
       "QrRNFiSXmCo4pzVLAhA_bw         Kanji Steak & Sushi   4.487087  \n",
       "bpGFetX8muk0GxAT3Oea3Q         Yummy Grill & Sushi   4.485615  \n",
       "u6EUXOSFnjxvzLll4D21bA                Harumi Sushi   4.485328  \n",
       "l5FvoKE2-k6JpGVuhH9YVA               Sushi Catcher   4.480872  \n",
       "AYbUb5UcAngroJ6uJG7tLQ                      Kabuto   4.479405  "
      ]
     },
     "execution_count": 133,
     "metadata": {},
     "output_type": "execute_result"
    }
   ],
   "source": [
    " filternamerecs(cleanedreviews,5,123123,'Sushi')"
   ]
  },
  {
   "cell_type": "markdown",
   "metadata": {},
   "source": [
    "While this method of assignment is invaluable at generating user predictions, it is highly advised for all users to take the next step of parsing through the business pages of the model outputs, in order to get more context before deciding to go to a given restaurant. As seen in the prior analysis the value of reading through review text gives the most informed decision for any restaurant goer. "
   ]
  },
  {
   "cell_type": "markdown",
   "metadata": {},
   "source": [
    "# Conclusion\n",
    "\n",
    "The model was able to successfully assign the majority of restaurant reviews in the dataset, solely through the use of Yelp review text. An 83% accuracy across both test/training data shows that the model performs relatively well, even in the face of new data. The model's important feature outputs, given in the form of coefficients and paired key words/phrases, should be scrutinized in order to understand the most critical elements that should be focused on when it comes to restaurant improvement.\n",
    "\n",
    "As seen in the ranked keywords from the model output, several words that were most impactful for the performance of the overall classifier identified a restaurant's features and experiences, both good and bad. As a recap, below are the following identified areas for improvement\n",
    "\n",
    "#### Food Quality\n",
    "Positive reviews - words of highest importance: 'best thai','omakase','ingredient fresh';\n",
    "Negative reviews - words of highest importance: 'filthy','subpar','ugh','bug','heat lamp'\n",
    "\n",
    "#### Service Quality\n",
    "Positive reviews - words of highest importance:'owner chef','staff amaze','family run';\n",
    "Negative reviews - words of highest importance: 'service lack', service terrible','seem (to) care'\n",
    "\n",
    "#### Value Perceived by Customers\n",
    "Positive reviews - words of highest importance: 'ayce sushi';\n",
    "Negative reviews - words of highest importance: 'waste money','save money','waste time money','pay extra'\n",
    "\n",
    "#### Time to Receive Food\n",
    "Positive reviews - words of highest importance: 'take first';\n",
    "Negative reviews - words of highest importance: 'good minute','get bill','take forever get','bring check','waiter take'\n",
    "\n",
    "The themes around the experience-oriented phrases revolve around money spent or bad experiences from attending staff (e.g. speaking to managers, hospitality, sub-par service, saving money, taking forever, horrible service). It seems as if these issues, when apparent from the customer end, may even be reflected through the experience with the food. Inefficiencies with any restaurant or business are hard to ignore, and they translate down to the inevitable service a customer gets.\n",
    "\n",
    "For example, in the FX show The Bear, an accurate look into the life of restaurant workers, depicts a prime when communication, organization, and efficiency are not at the forefront of any operating business. In the scene depicted below, chaos in the kitchen soon ensues when tension between the cooks and chef starts to flare. The aftermath of this scene is not shown, but it is implied that several customers orders were left unfulfilled. Similar to the outputs of the model keywords, long wait times and terrible service are indicative of bad performance.\n",
    "\n",
    "\n",
    "https://www.youtube.com/watch?v=1K3z62yoiOA\n",
    "\n",
    "\n",
    "Money-oriented words/phrases were identified as well, implying perceived customer value of the food served also plays a big part in the overall satisfaction (e.g. \"full price\", \"save money\", \"waste time money\"). If a customer doesn't believe that the food they received was worth the money they paid they are less likely to support that restaurant in the future. \n",
    "\n",
    "\n",
    "## Recommendations\n",
    "\n",
    "In order to improve overall restaurant reviews and customer satisfaction, improvement should be looked at through the lens of service improvement, food quality, and customer value. In reality, there is a significant overlap between the factors, but both can be improved through different means. \n",
    "\n",
    "In terms of organization, different systems can be established, such as the Brigade de cuisine invented by Escoffier,  a hierarchal system found in restaurants that keeps the overall kitchen working similarly to a well-oiled machine. This system, when implemented, allows for no margin of error while emphasizing precision and productivity. Confusion and lack of clarity are mitigated to a large degree when kitchen staff has defined and stable roles. Newfound organization would improve customer wait times and overall satisfaction.\n",
    "\n",
    "Outside of the logistical framework, service improvement can be achieved through front-of-house staff training, emphasizing professionalism and enthusiastic service. Vetting waiters and servers to ensure that temperament and values align is critical in ensuring a customer feels welcome and accepted. Comments around rude service would be reduced when all diner-facing staff cultivates a common friendly culture.\n",
    "\n",
    "Rude service may also stem from worker compensation, as staff members may feel disgruntled when their work does not reflect what they take home at the end of the day. This is especially evident in America, where the majority of what a waiter makes is based on tips. If overall base wages were improved, waiters/busboys would not feel feel the pressure to \"fake\" friendliness in order to get paid. Their enthusiasm and desire to work at a given establishment would translate into the service they provide. \n",
    "\n",
    "The \"value\" oriented comments are somewhat trickier to mitigate, but can be managed through the kitchen's supply chain. Customers may not feel like they get the \"bang for their buck\" if they pay too much for a smaller portion than they were expecting. Understandably restaurants do have to price their food in certain ways to keep their overall profit margins high and pay their staff fairly. In order to keep prices low, expensive/costly ingredients can be substituted with cheaper alternatives, keeping the focus on quality and identity of a given dish.\n",
    "\n",
    "\n",
    "## Next Steps\n",
    "\n",
    "\n",
    "Next steps with the overall model would involve using a more nuanced system of ratings to evaluate, rather than just a 5 star review. Seen through Metacritic movie reviews, a score of 1-100 would be more valuable to interpret, as there is more of a range/scale that users could input. A rating of 4 stars may mean something different to many different users, either average, or very good. A rating of 90 implies several aspects hit the mark, but slight points of improvement can be observed. Using a review system on this scale may improve overall model accuracy.\n",
    "\n",
    "Another avenue to explore would be to utilize more filtering options within the recommendation system, such as price range, in order to create more nuanced recommendations. Being able to hone in on a more granular level would make the recommendation system more usable/dynamic for the average diner. \n",
    "\n",
    "Additionally, combining both components of the project by displaying top words of significance/frequency for each restaurant recommendation could provide more context in a  decision to dine. \n",
    "\n",
    "Using a logistic regresssion model on the additional features that were present in the initial dataset, such as presence of restaurant features and votes on individual reviews, would provide a different perspective on the most critical features that influence good/bad reviews. Restaurants would be able to add these features (e.g. a salad bar) in an effort to improve customer perception.\n",
    "\n",
    "Running the NLP analysis under the grain of restaurant categories may reveal if some cuisine types receive worse criticism than others. Restaurants with differing cuisine types may require differing solutions. The output for each of the category types would provide a solution set for each cuisine."
   ]
  }
 ],
 "metadata": {
  "kernelspec": {
   "display_name": "Python 3",
   "language": "python",
   "name": "python3"
  },
  "language_info": {
   "codemirror_mode": {
    "name": "ipython",
    "version": 3
   },
   "file_extension": ".py",
   "mimetype": "text/x-python",
   "name": "python",
   "nbconvert_exporter": "python",
   "pygments_lexer": "ipython3",
   "version": "3.8.5"
  }
 },
 "nbformat": 4,
 "nbformat_minor": 2
}
